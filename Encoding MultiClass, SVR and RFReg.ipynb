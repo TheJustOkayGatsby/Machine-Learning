{
  "nbformat": 4,
  "nbformat_minor": 0,
  "metadata": {
    "colab": {
      "provenance": [],
      "include_colab_link": true
    },
    "kernelspec": {
      "name": "python3",
      "display_name": "Python 3"
    },
    "language_info": {
      "name": "python"
    }
  },
  "cells": [
    {
      "cell_type": "markdown",
      "metadata": {
        "id": "view-in-github",
        "colab_type": "text"
      },
      "source": [
        "<a href=\"https://colab.research.google.com/github/TheJustOkayGatsby/Machine-Learning/blob/main/Encoding%20MultiClass%2C%20SVR%20and%20RFReg.ipynb\" target=\"_parent\"><img src=\"https://colab.research.google.com/assets/colab-badge.svg\" alt=\"Open In Colab\"/></a>"
      ]
    },
    {
      "cell_type": "code",
      "source": [
        "pip install category_encoders"
      ],
      "metadata": {
        "id": "aKr50sXqx_lm",
        "colab": {
          "base_uri": "https://localhost:8080/"
        },
        "outputId": "ee7ea9ca-ec95-4ee3-f555-74ddc2c9bfa7"
      },
      "execution_count": null,
      "outputs": [
        {
          "output_type": "stream",
          "name": "stdout",
          "text": [
            "Requirement already satisfied: category_encoders in /usr/local/lib/python3.10/dist-packages (2.6.1)\n",
            "Requirement already satisfied: numpy>=1.14.0 in /usr/local/lib/python3.10/dist-packages (from category_encoders) (1.22.4)\n",
            "Requirement already satisfied: scikit-learn>=0.20.0 in /usr/local/lib/python3.10/dist-packages (from category_encoders) (1.2.2)\n",
            "Requirement already satisfied: scipy>=1.0.0 in /usr/local/lib/python3.10/dist-packages (from category_encoders) (1.10.1)\n",
            "Requirement already satisfied: statsmodels>=0.9.0 in /usr/local/lib/python3.10/dist-packages (from category_encoders) (0.13.5)\n",
            "Requirement already satisfied: pandas>=1.0.5 in /usr/local/lib/python3.10/dist-packages (from category_encoders) (1.5.3)\n",
            "Requirement already satisfied: patsy>=0.5.1 in /usr/local/lib/python3.10/dist-packages (from category_encoders) (0.5.3)\n",
            "Requirement already satisfied: python-dateutil>=2.8.1 in /usr/local/lib/python3.10/dist-packages (from pandas>=1.0.5->category_encoders) (2.8.2)\n",
            "Requirement already satisfied: pytz>=2020.1 in /usr/local/lib/python3.10/dist-packages (from pandas>=1.0.5->category_encoders) (2022.7.1)\n",
            "Requirement already satisfied: six in /usr/local/lib/python3.10/dist-packages (from patsy>=0.5.1->category_encoders) (1.16.0)\n",
            "Requirement already satisfied: joblib>=1.1.1 in /usr/local/lib/python3.10/dist-packages (from scikit-learn>=0.20.0->category_encoders) (1.3.1)\n",
            "Requirement already satisfied: threadpoolctl>=2.0.0 in /usr/local/lib/python3.10/dist-packages (from scikit-learn>=0.20.0->category_encoders) (3.1.0)\n",
            "Requirement already satisfied: packaging>=21.3 in /usr/local/lib/python3.10/dist-packages (from statsmodels>=0.9.0->category_encoders) (23.1)\n"
          ]
        }
      ]
    },
    {
      "cell_type": "code",
      "source": [
        "from pandas import read_csv, Series\n",
        "from sklearn.preprocessing import StandardScaler\n",
        "from sklearn.model_selection import GridSearchCV\n",
        "from category_encoders import TargetEncoder\n",
        "from sklearn.ensemble import RandomForestRegressor\n",
        "from sklearn.svm import SVR\n",
        "import plotly.figure_factory as ff\n",
        "\n",
        "# Importing dataset and examining it\n",
        "data = read_csv(\"/content/drive/MyDrive/DBS Lectures /LifeExpectancy.csv\")\n",
        "data.head()\n",
        "data.info()"
      ],
      "metadata": {
        "id": "gLAQe3z1gKmg",
        "colab": {
          "base_uri": "https://localhost:8080/"
        },
        "outputId": "4624caa6-322a-452f-9a52-19bf127a3337"
      },
      "execution_count": null,
      "outputs": [
        {
          "output_type": "stream",
          "name": "stdout",
          "text": [
            "<class 'pandas.core.frame.DataFrame'>\n",
            "RangeIndex: 1974 entries, 0 to 1973\n",
            "Data columns (total 22 columns):\n",
            " #   Column                           Non-Null Count  Dtype  \n",
            "---  ------                           --------------  -----  \n",
            " 0   Country                          1974 non-null   object \n",
            " 1   Year                             1974 non-null   int64  \n",
            " 2   Status                           1974 non-null   object \n",
            " 3   Life expectancy                  1974 non-null   float64\n",
            " 4   Adult Mortality                  1974 non-null   int64  \n",
            " 5   infant deaths                    1974 non-null   int64  \n",
            " 6   Alcohol                          1974 non-null   float64\n",
            " 7   percentage expenditure           1974 non-null   float64\n",
            " 8   Hepatitis B                      1974 non-null   float64\n",
            " 9   Measles                          1974 non-null   int64  \n",
            " 10  BMI                              1974 non-null   float64\n",
            " 11  under-five deaths                1974 non-null   int64  \n",
            " 12  Polio                            1974 non-null   int64  \n",
            " 13  Total expenditure                1974 non-null   float64\n",
            " 14  Diphtheria                       1974 non-null   int64  \n",
            " 15  HIV/AIDS                         1974 non-null   float64\n",
            " 16  GDP                              1974 non-null   float64\n",
            " 17  Population                       1974 non-null   float64\n",
            " 18  thinness  1-19 years             1974 non-null   float64\n",
            " 19  thinness 5-9 years               1974 non-null   float64\n",
            " 20  Income composition of resources  1974 non-null   float64\n",
            " 21  Schooling                        1974 non-null   float64\n",
            "dtypes: float64(13), int64(7), object(2)\n",
            "memory usage: 339.4+ KB\n"
          ]
        }
      ]
    },
    {
      "cell_type": "code",
      "source": [
        "print(data['Status'].unique())\n",
        "data['Status'] = data['Status'].map({'Developed': 1, 'Developing':0})\n",
        "data.info()"
      ],
      "metadata": {
        "id": "0edAQvkBgNmE",
        "colab": {
          "base_uri": "https://localhost:8080/"
        },
        "outputId": "5477e4f1-3909-43b2-e2ab-3f4837d8afea"
      },
      "execution_count": null,
      "outputs": [
        {
          "output_type": "stream",
          "name": "stdout",
          "text": [
            "['Developing' 'Developed']\n",
            "<class 'pandas.core.frame.DataFrame'>\n",
            "RangeIndex: 1974 entries, 0 to 1973\n",
            "Data columns (total 22 columns):\n",
            " #   Column                           Non-Null Count  Dtype  \n",
            "---  ------                           --------------  -----  \n",
            " 0   Country                          1974 non-null   object \n",
            " 1   Year                             1974 non-null   int64  \n",
            " 2   Status                           1974 non-null   int64  \n",
            " 3   Life expectancy                  1974 non-null   float64\n",
            " 4   Adult Mortality                  1974 non-null   int64  \n",
            " 5   infant deaths                    1974 non-null   int64  \n",
            " 6   Alcohol                          1974 non-null   float64\n",
            " 7   percentage expenditure           1974 non-null   float64\n",
            " 8   Hepatitis B                      1974 non-null   float64\n",
            " 9   Measles                          1974 non-null   int64  \n",
            " 10  BMI                              1974 non-null   float64\n",
            " 11  under-five deaths                1974 non-null   int64  \n",
            " 12  Polio                            1974 non-null   int64  \n",
            " 13  Total expenditure                1974 non-null   float64\n",
            " 14  Diphtheria                       1974 non-null   int64  \n",
            " 15  HIV/AIDS                         1974 non-null   float64\n",
            " 16  GDP                              1974 non-null   float64\n",
            " 17  Population                       1974 non-null   float64\n",
            " 18  thinness  1-19 years             1974 non-null   float64\n",
            " 19  thinness 5-9 years               1974 non-null   float64\n",
            " 20  Income composition of resources  1974 non-null   float64\n",
            " 21  Schooling                        1974 non-null   float64\n",
            "dtypes: float64(13), int64(8), object(1)\n",
            "memory usage: 339.4+ KB\n"
          ]
        }
      ]
    },
    {
      "cell_type": "code",
      "source": [
        "data['Country'].unique()"
      ],
      "metadata": {
        "id": "ZPEk-M1Fg0pX",
        "colab": {
          "base_uri": "https://localhost:8080/"
        },
        "outputId": "3ab0e8ed-4acc-4e80-a424-e6bcb47c611a"
      },
      "execution_count": null,
      "outputs": [
        {
          "output_type": "execute_result",
          "data": {
            "text/plain": [
              "array(['Afghanistan', 'Albania', 'Algeria', 'Angola', 'Argentina',\n",
              "       'Armenia', 'Australia', 'Austria', 'Azerbaijan', 'Bangladesh',\n",
              "       'Belarus', 'Belgium', 'Belize', 'Benin', 'Bhutan',\n",
              "       'Bosnia and Herzegovina', 'Botswana', 'Brazil', 'Bulgaria',\n",
              "       'Burkina Faso', 'Burundi', 'Cabo Verde', 'Cambodia', 'Cameroon',\n",
              "       'Canada', 'Central African Republic', 'Chad', 'Chile', 'China',\n",
              "       'Colombia', 'Comoros', 'Costa Rica', 'Croatia', 'Cyprus',\n",
              "       'Djibouti', 'Dominican Republic', 'Ecuador', 'El Salvador',\n",
              "       'Equatorial Guinea', 'Eritrea', 'Estonia', 'Ethiopia', 'Fiji',\n",
              "       'France', 'Gabon', 'Georgia', 'Germany', 'Ghana', 'Greece',\n",
              "       'Guatemala', 'Guinea', 'Guinea-Bissau', 'Guyana', 'Haiti',\n",
              "       'Honduras', 'India', 'Indonesia', 'Iraq', 'Ireland', 'Israel',\n",
              "       'Italy', 'Jamaica', 'Jordan', 'Kazakhstan', 'Kenya', 'Kiribati',\n",
              "       'Latvia', 'Lebanon', 'Lesotho', 'Liberia', 'Lithuania',\n",
              "       'Luxembourg', 'Madagascar', 'Malawi', 'Malaysia', 'Maldives',\n",
              "       'Mali', 'Malta', 'Mauritania', 'Mauritius', 'Mexico', 'Mongolia',\n",
              "       'Montenegro', 'Morocco', 'Mozambique', 'Myanmar', 'Namibia',\n",
              "       'Nepal', 'Netherlands', 'Nicaragua', 'Niger', 'Nigeria',\n",
              "       'Pakistan', 'Panama', 'Papua New Guinea', 'Paraguay', 'Peru',\n",
              "       'Philippines', 'Poland', 'Portugal', 'Romania',\n",
              "       'Russian Federation', 'Rwanda', 'Samoa', 'Sao Tome and Principe',\n",
              "       'Senegal', 'Serbia', 'Seychelles', 'Sierra Leone',\n",
              "       'Solomon Islands', 'South Africa', 'Spain', 'Sri Lanka',\n",
              "       'Suriname', 'Swaziland', 'Sweden', 'Syrian Arab Republic',\n",
              "       'Tajikistan', 'Thailand', 'Timor-Leste', 'Togo', 'Tonga',\n",
              "       'Trinidad and Tobago', 'Tunisia', 'Turkey', 'Turkmenistan',\n",
              "       'Uganda', 'Ukraine', 'Uruguay', 'Uzbekistan', 'Vanuatu', 'Zambia',\n",
              "       'Zimbabwe'], dtype=object)"
            ]
          },
          "metadata": {},
          "execution_count": 5
        }
      ]
    },
    {
      "cell_type": "code",
      "source": [
        "corrs = data.corr()\n",
        "figure = ff.create_annotated_heatmap(corrs.values,list(corrs.columns),list(corrs.columns), corrs.round(2).values,showscale=False)\n",
        "figure.show()"
      ],
      "metadata": {
        "id": "9beDLMuek5-Q",
        "colab": {
          "base_uri": "https://localhost:8080/",
          "height": 597
        },
        "outputId": "30a6aa0c-6d47-42a9-af89-a5a7c2e7b599"
      },
      "execution_count": null,
      "outputs": [
        {
          "output_type": "stream",
          "name": "stderr",
          "text": [
            "<ipython-input-6-8dc7232f4153>:1: FutureWarning: The default value of numeric_only in DataFrame.corr is deprecated. In a future version, it will default to False. Select only valid columns or specify the value of numeric_only to silence this warning.\n",
            "  corrs = data.corr()\n"
          ]
        },
        {
          "output_type": "display_data",
          "data": {
            "text/html": [
              "<html>\n",
              "<head><meta charset=\"utf-8\" /></head>\n",
              "<body>\n",
              "    <div>            <script src=\"https://cdnjs.cloudflare.com/ajax/libs/mathjax/2.7.5/MathJax.js?config=TeX-AMS-MML_SVG\"></script><script type=\"text/javascript\">if (window.MathJax && window.MathJax.Hub && window.MathJax.Hub.Config) {window.MathJax.Hub.Config({SVG: {font: \"STIX-Web\"}});}</script>                <script type=\"text/javascript\">window.PlotlyConfig = {MathJaxConfig: 'local'};</script>\n",
              "        <script src=\"https://cdn.plot.ly/plotly-2.18.2.min.js\"></script>                <div id=\"1ab5ba47-e50e-4287-9add-6ddca19aa34f\" class=\"plotly-graph-div\" style=\"height:525px; width:100%;\"></div>            <script type=\"text/javascript\">                                    window.PLOTLYENV=window.PLOTLYENV || {};                                    if (document.getElementById(\"1ab5ba47-e50e-4287-9add-6ddca19aa34f\")) {                    Plotly.newPlot(                        \"1ab5ba47-e50e-4287-9add-6ddca19aa34f\",                        [{\"colorscale\":[[0.0,\"#0d0887\"],[0.1111111111111111,\"#46039f\"],[0.2222222222222222,\"#7201a8\"],[0.3333333333333333,\"#9c179e\"],[0.4444444444444444,\"#bd3786\"],[0.5555555555555556,\"#d8576b\"],[0.6666666666666666,\"#ed7953\"],[0.7777777777777778,\"#fb9f3a\"],[0.8888888888888888,\"#fdca26\"],[1.0,\"#f0f921\"]],\"reversescale\":false,\"showscale\":false,\"x\":[\"Year\",\"Status\",\"Life expectancy\",\"Adult Mortality\",\"infant deaths\",\"Alcohol\",\"percentage expenditure\",\"Hepatitis B\",\"Measles\",\"BMI\",\"under-five deaths\",\"Polio\",\"Total expenditure\",\"Diphtheria\",\"HIV/AIDS\",\"GDP\",\"Population\",\"thinness  1-19 years\",\"thinness 5-9 years\",\"Income composition of resources\",\"Schooling\"],\"y\":[\"Year\",\"Status\",\"Life expectancy\",\"Adult Mortality\",\"infant deaths\",\"Alcohol\",\"percentage expenditure\",\"Hepatitis B\",\"Measles\",\"BMI\",\"under-five deaths\",\"Polio\",\"Total expenditure\",\"Diphtheria\",\"HIV/AIDS\",\"GDP\",\"Population\",\"thinness  1-19 years\",\"thinness 5-9 years\",\"Income composition of resources\",\"Schooling\"],\"z\":[[1.0,-0.0018817320076909426,0.1732462302391265,-0.0729964560065802,-0.03935919175417567,-0.05487326827016672,0.08685064976914694,0.14043948092073666,-0.1016515058177103,0.09527499513697277,-0.044363946761130306,0.1060929799172893,0.0756119882059557,0.15581100444092955,-0.14615861171475467,0.11694008132712293,0.02218283709226151,-0.0473279422486208,-0.05284697284973244,0.23646012465587052,0.2147025175859495],[-0.0018817320076909426,1.0,0.45871853570172444,-0.287084299859148,-0.1063021092452186,0.6088576525054783,0.5008436524033042,0.132511927308182,-0.07885061875287361,0.3429174492638769,-0.10887714164168756,0.2275255361226288,0.2231940607168222,0.22736513478495166,-0.1493146047692244,0.5212347998484099,-0.03443041608114194,-0.3242277373366629,-0.3221728654773378,0.47202296380154446,0.5114585630029411],[0.1732462302391265,0.45871853570172444,1.0,-0.6600785975299285,-0.16095567286974463,0.39578228813417066,0.41449697226451304,0.2413505933811123,-0.13815479073196615,0.6004669407998374,-0.18749135340346265,0.42695504650790345,0.19812730930218464,0.4549897826957426,-0.5768194034055287,0.44454713974824334,-0.01084133258949501,-0.45910518470776096,-0.44889309628639923,0.7368870022601177,0.7611384751106239],[-0.0729964560065802,-0.287084299859148,-0.6600785975299285,1.0,0.03830157152275222,-0.1831967794729317,-0.24289943225722407,-0.10082990436480904,-0.0073812856728903056,-0.373573607408,0.05285952383245918,-0.21363625312206305,-0.09610579982097629,-0.21601293549239559,0.5366653179247619,-0.2574375848067982,-0.022298918120715352,0.27744783162149056,0.2836165171867623,-0.416060030007014,-0.4126976764680834],[-0.03935919175417567,-0.1063021092452186,-0.16095567286974463,0.03830157152275222,1.0,-0.10591077591878091,-0.09020612232529375,-0.2236362482523874,0.509624602098874,-0.22862974922345486,0.996729090999195,-0.1576733635051025,-0.14776628573766962,-0.1617524387500384,0.001307665950745434,-0.09826263098209481,0.5628035787603011,0.48247868547797934,0.48845042243335146,-0.14068152083358001,-0.20196670656857005],[-0.05487326827016672,0.6088576525054783,0.39578228813417066,-0.1831967794729317,-0.10591077591878091,1.0,0.43039953013236,0.09629702475439551,-0.03053592985500663,0.38280738110319484,-0.10128312563802015,0.23199753223202393,0.22911177835092172,0.23813634445545984,-0.03614773979090506,0.45756505575872064,-0.02608930626094021,-0.40089017267093263,-0.3892563841943558,0.532153672365192,0.5908234285347274],[0.08685064976914694,0.5008436524033042,0.41449697226451304,-0.24289943225722407,-0.09020612232529375,0.43039953013236,1.0,0.007128905189090667,-0.06975717516051637,0.2785917345402913,-0.09294516853767268,0.16188190790730536,0.2179882937687961,0.1683152267461565,-0.110495458465896,0.9631632448214051,-0.01676112506709734,-0.2688706351810126,-0.26841723422252717,0.41077295382114354,0.43111315962683133],[0.14043948092073666,0.132511927308182,0.2413505933811123,-0.10082990436480904,-0.2236362482523874,0.09629702475439551,0.007128905189090667,1.0,-0.139554507083313,0.17617612048419495,-0.232953940313659,0.4669869992547778,0.13609055320414154,0.5666508870936242,-0.10618863463365591,0.02490539815148019,-0.11506355138464001,-0.14233328959619773,-0.14418889232137136,0.1951103053087756,0.24284297290519988],[-0.1016515058177103,-0.07885061875287361,-0.13815479073196615,-0.0073812856728903056,0.509624602098874,-0.03053592985500663,-0.06975717516051637,-0.139554507083313,1.0,-0.1687250032668962,0.5190463953011918,-0.11784590146761527,-0.11155714764988334,-0.12435383809521615,0.019171731285492162,-0.07438413003997572,0.269682750979729,0.22832561025535325,0.22374051984542997,-0.14090694741606702,-0.15167575315570683],[0.09527499513697277,0.3429174492638769,0.6004669407998374,-0.373573607408,-0.22862974922345486,0.38280738110319484,0.2785917345402913,0.17617612048419495,-0.1687250032668962,1.0,-0.23908347378193148,0.27397319239084456,0.2317607276240516,0.2795799620367449,-0.2401874767889673,0.30156145359263214,-0.07135152856151099,-0.5607171050567854,-0.5674097683543146,0.5499981040258599,0.5999150381825505],[-0.044363946761130306,-0.10887714164168756,-0.18749135340346265,0.05285952383245918,0.996729090999195,-0.10128312563802015,-0.09294516853767268,-0.232953940313659,0.5190463953011918,-0.23908347378193148,1.0,-0.1759295203674805,-0.14815322259525648,-0.18303074907313488,0.012937495112444719,-0.10197761645632612,0.5487650016379791,0.48488402413908266,0.4896219015992082,-0.16081904627961904,-0.2192403112405453],[0.1060929799172893,0.2275255361226288,0.42695504650790345,-0.21363625312206305,-0.1576733635051025,0.23199753223202393,0.16188190790730536,0.4669869992547778,-0.11784590146761527,0.27397319239084456,-0.1759295203674805,1.0,0.16307602036149316,0.6744961028989261,-0.13903117547149274,0.18753136040724327,-0.029286396048913556,-0.2108516400882167,-0.2119326318051808,0.38777146225848064,0.42687451881122157],[0.0756119882059557,0.2231940607168222,0.19812730930218464,-0.09610579982097629,-0.14776628573766962,0.22911177835092172,0.2179882937687961,0.13609055320414154,-0.11155714764988334,0.2317607276240516,-0.14815322259525648,0.16307602036149316,1.0,0.17661321931423776,0.025831955214911502,0.21256199287859992,-0.0778037786191495,-0.23185488001881546,-0.24760760074443083,0.20084485351756914,0.2657946653498985],[0.15581100444092955,0.22736513478495166,0.4549897826957426,-0.21601293549239559,-0.1617524387500384,0.23813634445545984,0.1683152267461565,0.5666508870936242,-0.12435383809521615,0.2795799620367449,-0.18303074907313488,0.6744961028989261,0.17661321931423776,1.0,-0.1494118853128366,0.18996489537280387,-0.02429365845047121,-0.23144112493243674,-0.22186597231899555,0.4303916430035981,0.4494523566019751],[-0.14615861171475467,-0.1493146047692244,-0.5768194034055287,0.5366653179247619,0.001307665950745434,-0.03614773979090506,-0.110495458465896,-0.10618863463365591,0.019171731285492162,-0.2401874767889673,0.012937495112444719,-0.13903117547149274,0.025831955214911502,-0.1494118853128366,1.0,-0.12224915039016213,-0.032545826472626875,0.1973506847999521,0.19632631128300998,-0.24805572534047568,-0.21785777411777277],[0.11694008132712293,0.5212347998484099,0.44454713974824334,-0.2574375848067982,-0.09826263098209481,0.45756505575872064,0.9631632448214051,0.02490539815148019,-0.07438413003997572,0.30156145359263214,-0.10197761645632612,0.18753136040724327,0.21256199287859992,0.18996489537280387,-0.12224915039016213,1.0,-0.019997721420883845,-0.28879347963797286,-0.2882440172016082,0.45327125209539737,0.47262394476483593],[0.02218283709226151,-0.03443041608114194,-0.01084133258949501,-0.022298918120715352,0.5628035787603011,-0.02608930626094021,-0.01676112506709734,-0.11506355138464001,0.269682750979729,-0.07135152856151099,0.5487650016379791,-0.029286396048913556,-0.0778037786191495,-0.02429365845047121,-0.032545826472626875,-0.019997721420883845,1.0,0.2603300540624375,0.25802884584716224,0.00010785947852530166,-0.026941269477895373],[-0.0473279422486208,-0.3242277373366629,-0.45910518470776096,0.27744783162149056,0.48247868547797934,-0.40089017267093263,-0.2688706351810126,-0.14233328959619773,0.22832561025535325,-0.5607171050567854,0.48488402413908266,-0.2108516400882167,-0.23185488001881546,-0.23144112493243674,0.1973506847999521,-0.28879347963797286,0.2603300540624375,1.0,0.9262605814490251,-0.43837054697033107,-0.4747654084831276],[-0.05284697284973244,-0.3221728654773378,-0.44889309628639923,0.2836165171867623,0.48845042243335146,-0.3892563841943558,-0.26841723422252717,-0.14418889232137136,0.22374051984542997,-0.5674097683543146,0.4896219015992082,-0.2119326318051808,-0.24760760074443083,-0.22186597231899555,0.19632631128300998,-0.2882440172016082,0.25802884584716224,0.9262605814490251,1.0,-0.41967601488817596,-0.4583156503196072],[0.23646012465587052,0.47202296380154446,0.7368870022601177,-0.416060030007014,-0.14068152083358001,0.532153672365192,0.41077295382114354,0.1951103053087756,-0.14090694741606702,0.5499981040258599,-0.16081904627961904,0.38777146225848064,0.20084485351756914,0.4303916430035981,-0.24805572534047568,0.45327125209539737,0.00010785947852530166,-0.43837054697033107,-0.41967601488817596,1.0,0.8023204521584857],[0.2147025175859495,0.5114585630029411,0.7611384751106239,-0.4126976764680834,-0.20196670656857005,0.5908234285347274,0.43111315962683133,0.24284297290519988,-0.15167575315570683,0.5999150381825505,-0.2192403112405453,0.42687451881122157,0.2657946653498985,0.4494523566019751,-0.21785777411777277,0.47262394476483593,-0.026941269477895373,-0.4747654084831276,-0.4583156503196072,0.8023204521584857,1.0]],\"type\":\"heatmap\"}],                        {\"annotations\":[{\"font\":{\"color\":\"#000000\"},\"showarrow\":false,\"text\":\"1.0\",\"x\":\"Year\",\"xref\":\"x\",\"y\":\"Year\",\"yref\":\"y\"},{\"font\":{\"color\":\"#FFFFFF\"},\"showarrow\":false,\"text\":\"-0.0\",\"x\":\"Status\",\"xref\":\"x\",\"y\":\"Year\",\"yref\":\"y\"},{\"font\":{\"color\":\"#000000\"},\"showarrow\":false,\"text\":\"0.17\",\"x\":\"Life expectancy\",\"xref\":\"x\",\"y\":\"Year\",\"yref\":\"y\"},{\"font\":{\"color\":\"#FFFFFF\"},\"showarrow\":false,\"text\":\"-0.07\",\"x\":\"Adult Mortality\",\"xref\":\"x\",\"y\":\"Year\",\"yref\":\"y\"},{\"font\":{\"color\":\"#FFFFFF\"},\"showarrow\":false,\"text\":\"-0.04\",\"x\":\"infant deaths\",\"xref\":\"x\",\"y\":\"Year\",\"yref\":\"y\"},{\"font\":{\"color\":\"#FFFFFF\"},\"showarrow\":false,\"text\":\"-0.05\",\"x\":\"Alcohol\",\"xref\":\"x\",\"y\":\"Year\",\"yref\":\"y\"},{\"font\":{\"color\":\"#FFFFFF\"},\"showarrow\":false,\"text\":\"0.09\",\"x\":\"percentage expenditure\",\"xref\":\"x\",\"y\":\"Year\",\"yref\":\"y\"},{\"font\":{\"color\":\"#FFFFFF\"},\"showarrow\":false,\"text\":\"0.14\",\"x\":\"Hepatitis B\",\"xref\":\"x\",\"y\":\"Year\",\"yref\":\"y\"},{\"font\":{\"color\":\"#FFFFFF\"},\"showarrow\":false,\"text\":\"-0.1\",\"x\":\"Measles\",\"xref\":\"x\",\"y\":\"Year\",\"yref\":\"y\"},{\"font\":{\"color\":\"#FFFFFF\"},\"showarrow\":false,\"text\":\"0.1\",\"x\":\"BMI\",\"xref\":\"x\",\"y\":\"Year\",\"yref\":\"y\"},{\"font\":{\"color\":\"#FFFFFF\"},\"showarrow\":false,\"text\":\"-0.04\",\"x\":\"under-five deaths\",\"xref\":\"x\",\"y\":\"Year\",\"yref\":\"y\"},{\"font\":{\"color\":\"#FFFFFF\"},\"showarrow\":false,\"text\":\"0.11\",\"x\":\"Polio\",\"xref\":\"x\",\"y\":\"Year\",\"yref\":\"y\"},{\"font\":{\"color\":\"#FFFFFF\"},\"showarrow\":false,\"text\":\"0.08\",\"x\":\"Total expenditure\",\"xref\":\"x\",\"y\":\"Year\",\"yref\":\"y\"},{\"font\":{\"color\":\"#FFFFFF\"},\"showarrow\":false,\"text\":\"0.16\",\"x\":\"Diphtheria\",\"xref\":\"x\",\"y\":\"Year\",\"yref\":\"y\"},{\"font\":{\"color\":\"#FFFFFF\"},\"showarrow\":false,\"text\":\"-0.15\",\"x\":\"HIV/AIDS\",\"xref\":\"x\",\"y\":\"Year\",\"yref\":\"y\"},{\"font\":{\"color\":\"#FFFFFF\"},\"showarrow\":false,\"text\":\"0.12\",\"x\":\"GDP\",\"xref\":\"x\",\"y\":\"Year\",\"yref\":\"y\"},{\"font\":{\"color\":\"#FFFFFF\"},\"showarrow\":false,\"text\":\"0.02\",\"x\":\"Population\",\"xref\":\"x\",\"y\":\"Year\",\"yref\":\"y\"},{\"font\":{\"color\":\"#FFFFFF\"},\"showarrow\":false,\"text\":\"-0.05\",\"x\":\"thinness  1-19 years\",\"xref\":\"x\",\"y\":\"Year\",\"yref\":\"y\"},{\"font\":{\"color\":\"#FFFFFF\"},\"showarrow\":false,\"text\":\"-0.05\",\"x\":\"thinness 5-9 years\",\"xref\":\"x\",\"y\":\"Year\",\"yref\":\"y\"},{\"font\":{\"color\":\"#000000\"},\"showarrow\":false,\"text\":\"0.24\",\"x\":\"Income composition of resources\",\"xref\":\"x\",\"y\":\"Year\",\"yref\":\"y\"},{\"font\":{\"color\":\"#000000\"},\"showarrow\":false,\"text\":\"0.21\",\"x\":\"Schooling\",\"xref\":\"x\",\"y\":\"Year\",\"yref\":\"y\"},{\"font\":{\"color\":\"#FFFFFF\"},\"showarrow\":false,\"text\":\"-0.0\",\"x\":\"Year\",\"xref\":\"x\",\"y\":\"Status\",\"yref\":\"y\"},{\"font\":{\"color\":\"#000000\"},\"showarrow\":false,\"text\":\"1.0\",\"x\":\"Status\",\"xref\":\"x\",\"y\":\"Status\",\"yref\":\"y\"},{\"font\":{\"color\":\"#000000\"},\"showarrow\":false,\"text\":\"0.46\",\"x\":\"Life expectancy\",\"xref\":\"x\",\"y\":\"Status\",\"yref\":\"y\"},{\"font\":{\"color\":\"#FFFFFF\"},\"showarrow\":false,\"text\":\"-0.29\",\"x\":\"Adult Mortality\",\"xref\":\"x\",\"y\":\"Status\",\"yref\":\"y\"},{\"font\":{\"color\":\"#FFFFFF\"},\"showarrow\":false,\"text\":\"-0.11\",\"x\":\"infant deaths\",\"xref\":\"x\",\"y\":\"Status\",\"yref\":\"y\"},{\"font\":{\"color\":\"#000000\"},\"showarrow\":false,\"text\":\"0.61\",\"x\":\"Alcohol\",\"xref\":\"x\",\"y\":\"Status\",\"yref\":\"y\"},{\"font\":{\"color\":\"#000000\"},\"showarrow\":false,\"text\":\"0.5\",\"x\":\"percentage expenditure\",\"xref\":\"x\",\"y\":\"Status\",\"yref\":\"y\"},{\"font\":{\"color\":\"#FFFFFF\"},\"showarrow\":false,\"text\":\"0.13\",\"x\":\"Hepatitis B\",\"xref\":\"x\",\"y\":\"Status\",\"yref\":\"y\"},{\"font\":{\"color\":\"#FFFFFF\"},\"showarrow\":false,\"text\":\"-0.08\",\"x\":\"Measles\",\"xref\":\"x\",\"y\":\"Status\",\"yref\":\"y\"},{\"font\":{\"color\":\"#000000\"},\"showarrow\":false,\"text\":\"0.34\",\"x\":\"BMI\",\"xref\":\"x\",\"y\":\"Status\",\"yref\":\"y\"},{\"font\":{\"color\":\"#FFFFFF\"},\"showarrow\":false,\"text\":\"-0.11\",\"x\":\"under-five deaths\",\"xref\":\"x\",\"y\":\"Status\",\"yref\":\"y\"},{\"font\":{\"color\":\"#000000\"},\"showarrow\":false,\"text\":\"0.23\",\"x\":\"Polio\",\"xref\":\"x\",\"y\":\"Status\",\"yref\":\"y\"},{\"font\":{\"color\":\"#000000\"},\"showarrow\":false,\"text\":\"0.22\",\"x\":\"Total expenditure\",\"xref\":\"x\",\"y\":\"Status\",\"yref\":\"y\"},{\"font\":{\"color\":\"#000000\"},\"showarrow\":false,\"text\":\"0.23\",\"x\":\"Diphtheria\",\"xref\":\"x\",\"y\":\"Status\",\"yref\":\"y\"},{\"font\":{\"color\":\"#FFFFFF\"},\"showarrow\":false,\"text\":\"-0.15\",\"x\":\"HIV/AIDS\",\"xref\":\"x\",\"y\":\"Status\",\"yref\":\"y\"},{\"font\":{\"color\":\"#000000\"},\"showarrow\":false,\"text\":\"0.52\",\"x\":\"GDP\",\"xref\":\"x\",\"y\":\"Status\",\"yref\":\"y\"},{\"font\":{\"color\":\"#FFFFFF\"},\"showarrow\":false,\"text\":\"-0.03\",\"x\":\"Population\",\"xref\":\"x\",\"y\":\"Status\",\"yref\":\"y\"},{\"font\":{\"color\":\"#FFFFFF\"},\"showarrow\":false,\"text\":\"-0.32\",\"x\":\"thinness  1-19 years\",\"xref\":\"x\",\"y\":\"Status\",\"yref\":\"y\"},{\"font\":{\"color\":\"#FFFFFF\"},\"showarrow\":false,\"text\":\"-0.32\",\"x\":\"thinness 5-9 years\",\"xref\":\"x\",\"y\":\"Status\",\"yref\":\"y\"},{\"font\":{\"color\":\"#000000\"},\"showarrow\":false,\"text\":\"0.47\",\"x\":\"Income composition of resources\",\"xref\":\"x\",\"y\":\"Status\",\"yref\":\"y\"},{\"font\":{\"color\":\"#000000\"},\"showarrow\":false,\"text\":\"0.51\",\"x\":\"Schooling\",\"xref\":\"x\",\"y\":\"Status\",\"yref\":\"y\"},{\"font\":{\"color\":\"#000000\"},\"showarrow\":false,\"text\":\"0.17\",\"x\":\"Year\",\"xref\":\"x\",\"y\":\"Life expectancy\",\"yref\":\"y\"},{\"font\":{\"color\":\"#000000\"},\"showarrow\":false,\"text\":\"0.46\",\"x\":\"Status\",\"xref\":\"x\",\"y\":\"Life expectancy\",\"yref\":\"y\"},{\"font\":{\"color\":\"#000000\"},\"showarrow\":false,\"text\":\"1.0\",\"x\":\"Life expectancy\",\"xref\":\"x\",\"y\":\"Life expectancy\",\"yref\":\"y\"},{\"font\":{\"color\":\"#FFFFFF\"},\"showarrow\":false,\"text\":\"-0.66\",\"x\":\"Adult Mortality\",\"xref\":\"x\",\"y\":\"Life expectancy\",\"yref\":\"y\"},{\"font\":{\"color\":\"#FFFFFF\"},\"showarrow\":false,\"text\":\"-0.16\",\"x\":\"infant deaths\",\"xref\":\"x\",\"y\":\"Life expectancy\",\"yref\":\"y\"},{\"font\":{\"color\":\"#000000\"},\"showarrow\":false,\"text\":\"0.4\",\"x\":\"Alcohol\",\"xref\":\"x\",\"y\":\"Life expectancy\",\"yref\":\"y\"},{\"font\":{\"color\":\"#000000\"},\"showarrow\":false,\"text\":\"0.41\",\"x\":\"percentage expenditure\",\"xref\":\"x\",\"y\":\"Life expectancy\",\"yref\":\"y\"},{\"font\":{\"color\":\"#000000\"},\"showarrow\":false,\"text\":\"0.24\",\"x\":\"Hepatitis B\",\"xref\":\"x\",\"y\":\"Life expectancy\",\"yref\":\"y\"},{\"font\":{\"color\":\"#FFFFFF\"},\"showarrow\":false,\"text\":\"-0.14\",\"x\":\"Measles\",\"xref\":\"x\",\"y\":\"Life expectancy\",\"yref\":\"y\"},{\"font\":{\"color\":\"#000000\"},\"showarrow\":false,\"text\":\"0.6\",\"x\":\"BMI\",\"xref\":\"x\",\"y\":\"Life expectancy\",\"yref\":\"y\"},{\"font\":{\"color\":\"#FFFFFF\"},\"showarrow\":false,\"text\":\"-0.19\",\"x\":\"under-five deaths\",\"xref\":\"x\",\"y\":\"Life expectancy\",\"yref\":\"y\"},{\"font\":{\"color\":\"#000000\"},\"showarrow\":false,\"text\":\"0.43\",\"x\":\"Polio\",\"xref\":\"x\",\"y\":\"Life expectancy\",\"yref\":\"y\"},{\"font\":{\"color\":\"#000000\"},\"showarrow\":false,\"text\":\"0.2\",\"x\":\"Total expenditure\",\"xref\":\"x\",\"y\":\"Life expectancy\",\"yref\":\"y\"},{\"font\":{\"color\":\"#000000\"},\"showarrow\":false,\"text\":\"0.45\",\"x\":\"Diphtheria\",\"xref\":\"x\",\"y\":\"Life expectancy\",\"yref\":\"y\"},{\"font\":{\"color\":\"#FFFFFF\"},\"showarrow\":false,\"text\":\"-0.58\",\"x\":\"HIV/AIDS\",\"xref\":\"x\",\"y\":\"Life expectancy\",\"yref\":\"y\"},{\"font\":{\"color\":\"#000000\"},\"showarrow\":false,\"text\":\"0.44\",\"x\":\"GDP\",\"xref\":\"x\",\"y\":\"Life expectancy\",\"yref\":\"y\"},{\"font\":{\"color\":\"#FFFFFF\"},\"showarrow\":false,\"text\":\"-0.01\",\"x\":\"Population\",\"xref\":\"x\",\"y\":\"Life expectancy\",\"yref\":\"y\"},{\"font\":{\"color\":\"#FFFFFF\"},\"showarrow\":false,\"text\":\"-0.46\",\"x\":\"thinness  1-19 years\",\"xref\":\"x\",\"y\":\"Life expectancy\",\"yref\":\"y\"},{\"font\":{\"color\":\"#FFFFFF\"},\"showarrow\":false,\"text\":\"-0.45\",\"x\":\"thinness 5-9 years\",\"xref\":\"x\",\"y\":\"Life expectancy\",\"yref\":\"y\"},{\"font\":{\"color\":\"#000000\"},\"showarrow\":false,\"text\":\"0.74\",\"x\":\"Income composition of resources\",\"xref\":\"x\",\"y\":\"Life expectancy\",\"yref\":\"y\"},{\"font\":{\"color\":\"#000000\"},\"showarrow\":false,\"text\":\"0.76\",\"x\":\"Schooling\",\"xref\":\"x\",\"y\":\"Life expectancy\",\"yref\":\"y\"},{\"font\":{\"color\":\"#FFFFFF\"},\"showarrow\":false,\"text\":\"-0.07\",\"x\":\"Year\",\"xref\":\"x\",\"y\":\"Adult Mortality\",\"yref\":\"y\"},{\"font\":{\"color\":\"#FFFFFF\"},\"showarrow\":false,\"text\":\"-0.29\",\"x\":\"Status\",\"xref\":\"x\",\"y\":\"Adult Mortality\",\"yref\":\"y\"},{\"font\":{\"color\":\"#FFFFFF\"},\"showarrow\":false,\"text\":\"-0.66\",\"x\":\"Life expectancy\",\"xref\":\"x\",\"y\":\"Adult Mortality\",\"yref\":\"y\"},{\"font\":{\"color\":\"#000000\"},\"showarrow\":false,\"text\":\"1.0\",\"x\":\"Adult Mortality\",\"xref\":\"x\",\"y\":\"Adult Mortality\",\"yref\":\"y\"},{\"font\":{\"color\":\"#FFFFFF\"},\"showarrow\":false,\"text\":\"0.04\",\"x\":\"infant deaths\",\"xref\":\"x\",\"y\":\"Adult Mortality\",\"yref\":\"y\"},{\"font\":{\"color\":\"#FFFFFF\"},\"showarrow\":false,\"text\":\"-0.18\",\"x\":\"Alcohol\",\"xref\":\"x\",\"y\":\"Adult Mortality\",\"yref\":\"y\"},{\"font\":{\"color\":\"#FFFFFF\"},\"showarrow\":false,\"text\":\"-0.24\",\"x\":\"percentage expenditure\",\"xref\":\"x\",\"y\":\"Adult Mortality\",\"yref\":\"y\"},{\"font\":{\"color\":\"#FFFFFF\"},\"showarrow\":false,\"text\":\"-0.1\",\"x\":\"Hepatitis B\",\"xref\":\"x\",\"y\":\"Adult Mortality\",\"yref\":\"y\"},{\"font\":{\"color\":\"#FFFFFF\"},\"showarrow\":false,\"text\":\"-0.01\",\"x\":\"Measles\",\"xref\":\"x\",\"y\":\"Adult Mortality\",\"yref\":\"y\"},{\"font\":{\"color\":\"#FFFFFF\"},\"showarrow\":false,\"text\":\"-0.37\",\"x\":\"BMI\",\"xref\":\"x\",\"y\":\"Adult Mortality\",\"yref\":\"y\"},{\"font\":{\"color\":\"#FFFFFF\"},\"showarrow\":false,\"text\":\"0.05\",\"x\":\"under-five deaths\",\"xref\":\"x\",\"y\":\"Adult Mortality\",\"yref\":\"y\"},{\"font\":{\"color\":\"#FFFFFF\"},\"showarrow\":false,\"text\":\"-0.21\",\"x\":\"Polio\",\"xref\":\"x\",\"y\":\"Adult Mortality\",\"yref\":\"y\"},{\"font\":{\"color\":\"#FFFFFF\"},\"showarrow\":false,\"text\":\"-0.1\",\"x\":\"Total expenditure\",\"xref\":\"x\",\"y\":\"Adult Mortality\",\"yref\":\"y\"},{\"font\":{\"color\":\"#FFFFFF\"},\"showarrow\":false,\"text\":\"-0.22\",\"x\":\"Diphtheria\",\"xref\":\"x\",\"y\":\"Adult Mortality\",\"yref\":\"y\"},{\"font\":{\"color\":\"#000000\"},\"showarrow\":false,\"text\":\"0.54\",\"x\":\"HIV/AIDS\",\"xref\":\"x\",\"y\":\"Adult Mortality\",\"yref\":\"y\"},{\"font\":{\"color\":\"#FFFFFF\"},\"showarrow\":false,\"text\":\"-0.26\",\"x\":\"GDP\",\"xref\":\"x\",\"y\":\"Adult Mortality\",\"yref\":\"y\"},{\"font\":{\"color\":\"#FFFFFF\"},\"showarrow\":false,\"text\":\"-0.02\",\"x\":\"Population\",\"xref\":\"x\",\"y\":\"Adult Mortality\",\"yref\":\"y\"},{\"font\":{\"color\":\"#000000\"},\"showarrow\":false,\"text\":\"0.28\",\"x\":\"thinness  1-19 years\",\"xref\":\"x\",\"y\":\"Adult Mortality\",\"yref\":\"y\"},{\"font\":{\"color\":\"#000000\"},\"showarrow\":false,\"text\":\"0.28\",\"x\":\"thinness 5-9 years\",\"xref\":\"x\",\"y\":\"Adult Mortality\",\"yref\":\"y\"},{\"font\":{\"color\":\"#FFFFFF\"},\"showarrow\":false,\"text\":\"-0.42\",\"x\":\"Income composition of resources\",\"xref\":\"x\",\"y\":\"Adult Mortality\",\"yref\":\"y\"},{\"font\":{\"color\":\"#FFFFFF\"},\"showarrow\":false,\"text\":\"-0.41\",\"x\":\"Schooling\",\"xref\":\"x\",\"y\":\"Adult Mortality\",\"yref\":\"y\"},{\"font\":{\"color\":\"#FFFFFF\"},\"showarrow\":false,\"text\":\"-0.04\",\"x\":\"Year\",\"xref\":\"x\",\"y\":\"infant deaths\",\"yref\":\"y\"},{\"font\":{\"color\":\"#FFFFFF\"},\"showarrow\":false,\"text\":\"-0.11\",\"x\":\"Status\",\"xref\":\"x\",\"y\":\"infant deaths\",\"yref\":\"y\"},{\"font\":{\"color\":\"#FFFFFF\"},\"showarrow\":false,\"text\":\"-0.16\",\"x\":\"Life expectancy\",\"xref\":\"x\",\"y\":\"infant deaths\",\"yref\":\"y\"},{\"font\":{\"color\":\"#FFFFFF\"},\"showarrow\":false,\"text\":\"0.04\",\"x\":\"Adult Mortality\",\"xref\":\"x\",\"y\":\"infant deaths\",\"yref\":\"y\"},{\"font\":{\"color\":\"#000000\"},\"showarrow\":false,\"text\":\"1.0\",\"x\":\"infant deaths\",\"xref\":\"x\",\"y\":\"infant deaths\",\"yref\":\"y\"},{\"font\":{\"color\":\"#FFFFFF\"},\"showarrow\":false,\"text\":\"-0.11\",\"x\":\"Alcohol\",\"xref\":\"x\",\"y\":\"infant deaths\",\"yref\":\"y\"},{\"font\":{\"color\":\"#FFFFFF\"},\"showarrow\":false,\"text\":\"-0.09\",\"x\":\"percentage expenditure\",\"xref\":\"x\",\"y\":\"infant deaths\",\"yref\":\"y\"},{\"font\":{\"color\":\"#FFFFFF\"},\"showarrow\":false,\"text\":\"-0.22\",\"x\":\"Hepatitis B\",\"xref\":\"x\",\"y\":\"infant deaths\",\"yref\":\"y\"},{\"font\":{\"color\":\"#000000\"},\"showarrow\":false,\"text\":\"0.51\",\"x\":\"Measles\",\"xref\":\"x\",\"y\":\"infant deaths\",\"yref\":\"y\"},{\"font\":{\"color\":\"#FFFFFF\"},\"showarrow\":false,\"text\":\"-0.23\",\"x\":\"BMI\",\"xref\":\"x\",\"y\":\"infant deaths\",\"yref\":\"y\"},{\"font\":{\"color\":\"#000000\"},\"showarrow\":false,\"text\":\"1.0\",\"x\":\"under-five deaths\",\"xref\":\"x\",\"y\":\"infant deaths\",\"yref\":\"y\"},{\"font\":{\"color\":\"#FFFFFF\"},\"showarrow\":false,\"text\":\"-0.16\",\"x\":\"Polio\",\"xref\":\"x\",\"y\":\"infant deaths\",\"yref\":\"y\"},{\"font\":{\"color\":\"#FFFFFF\"},\"showarrow\":false,\"text\":\"-0.15\",\"x\":\"Total expenditure\",\"xref\":\"x\",\"y\":\"infant deaths\",\"yref\":\"y\"},{\"font\":{\"color\":\"#FFFFFF\"},\"showarrow\":false,\"text\":\"-0.16\",\"x\":\"Diphtheria\",\"xref\":\"x\",\"y\":\"infant deaths\",\"yref\":\"y\"},{\"font\":{\"color\":\"#FFFFFF\"},\"showarrow\":false,\"text\":\"0.0\",\"x\":\"HIV/AIDS\",\"xref\":\"x\",\"y\":\"infant deaths\",\"yref\":\"y\"},{\"font\":{\"color\":\"#FFFFFF\"},\"showarrow\":false,\"text\":\"-0.1\",\"x\":\"GDP\",\"xref\":\"x\",\"y\":\"infant deaths\",\"yref\":\"y\"},{\"font\":{\"color\":\"#000000\"},\"showarrow\":false,\"text\":\"0.56\",\"x\":\"Population\",\"xref\":\"x\",\"y\":\"infant deaths\",\"yref\":\"y\"},{\"font\":{\"color\":\"#000000\"},\"showarrow\":false,\"text\":\"0.48\",\"x\":\"thinness  1-19 years\",\"xref\":\"x\",\"y\":\"infant deaths\",\"yref\":\"y\"},{\"font\":{\"color\":\"#000000\"},\"showarrow\":false,\"text\":\"0.49\",\"x\":\"thinness 5-9 years\",\"xref\":\"x\",\"y\":\"infant deaths\",\"yref\":\"y\"},{\"font\":{\"color\":\"#FFFFFF\"},\"showarrow\":false,\"text\":\"-0.14\",\"x\":\"Income composition of resources\",\"xref\":\"x\",\"y\":\"infant deaths\",\"yref\":\"y\"},{\"font\":{\"color\":\"#FFFFFF\"},\"showarrow\":false,\"text\":\"-0.2\",\"x\":\"Schooling\",\"xref\":\"x\",\"y\":\"infant deaths\",\"yref\":\"y\"},{\"font\":{\"color\":\"#FFFFFF\"},\"showarrow\":false,\"text\":\"-0.05\",\"x\":\"Year\",\"xref\":\"x\",\"y\":\"Alcohol\",\"yref\":\"y\"},{\"font\":{\"color\":\"#000000\"},\"showarrow\":false,\"text\":\"0.61\",\"x\":\"Status\",\"xref\":\"x\",\"y\":\"Alcohol\",\"yref\":\"y\"},{\"font\":{\"color\":\"#000000\"},\"showarrow\":false,\"text\":\"0.4\",\"x\":\"Life expectancy\",\"xref\":\"x\",\"y\":\"Alcohol\",\"yref\":\"y\"},{\"font\":{\"color\":\"#FFFFFF\"},\"showarrow\":false,\"text\":\"-0.18\",\"x\":\"Adult Mortality\",\"xref\":\"x\",\"y\":\"Alcohol\",\"yref\":\"y\"},{\"font\":{\"color\":\"#FFFFFF\"},\"showarrow\":false,\"text\":\"-0.11\",\"x\":\"infant deaths\",\"xref\":\"x\",\"y\":\"Alcohol\",\"yref\":\"y\"},{\"font\":{\"color\":\"#000000\"},\"showarrow\":false,\"text\":\"1.0\",\"x\":\"Alcohol\",\"xref\":\"x\",\"y\":\"Alcohol\",\"yref\":\"y\"},{\"font\":{\"color\":\"#000000\"},\"showarrow\":false,\"text\":\"0.43\",\"x\":\"percentage expenditure\",\"xref\":\"x\",\"y\":\"Alcohol\",\"yref\":\"y\"},{\"font\":{\"color\":\"#FFFFFF\"},\"showarrow\":false,\"text\":\"0.1\",\"x\":\"Hepatitis B\",\"xref\":\"x\",\"y\":\"Alcohol\",\"yref\":\"y\"},{\"font\":{\"color\":\"#FFFFFF\"},\"showarrow\":false,\"text\":\"-0.03\",\"x\":\"Measles\",\"xref\":\"x\",\"y\":\"Alcohol\",\"yref\":\"y\"},{\"font\":{\"color\":\"#000000\"},\"showarrow\":false,\"text\":\"0.38\",\"x\":\"BMI\",\"xref\":\"x\",\"y\":\"Alcohol\",\"yref\":\"y\"},{\"font\":{\"color\":\"#FFFFFF\"},\"showarrow\":false,\"text\":\"-0.1\",\"x\":\"under-five deaths\",\"xref\":\"x\",\"y\":\"Alcohol\",\"yref\":\"y\"},{\"font\":{\"color\":\"#000000\"},\"showarrow\":false,\"text\":\"0.23\",\"x\":\"Polio\",\"xref\":\"x\",\"y\":\"Alcohol\",\"yref\":\"y\"},{\"font\":{\"color\":\"#000000\"},\"showarrow\":false,\"text\":\"0.23\",\"x\":\"Total expenditure\",\"xref\":\"x\",\"y\":\"Alcohol\",\"yref\":\"y\"},{\"font\":{\"color\":\"#000000\"},\"showarrow\":false,\"text\":\"0.24\",\"x\":\"Diphtheria\",\"xref\":\"x\",\"y\":\"Alcohol\",\"yref\":\"y\"},{\"font\":{\"color\":\"#FFFFFF\"},\"showarrow\":false,\"text\":\"-0.04\",\"x\":\"HIV/AIDS\",\"xref\":\"x\",\"y\":\"Alcohol\",\"yref\":\"y\"},{\"font\":{\"color\":\"#000000\"},\"showarrow\":false,\"text\":\"0.46\",\"x\":\"GDP\",\"xref\":\"x\",\"y\":\"Alcohol\",\"yref\":\"y\"},{\"font\":{\"color\":\"#FFFFFF\"},\"showarrow\":false,\"text\":\"-0.03\",\"x\":\"Population\",\"xref\":\"x\",\"y\":\"Alcohol\",\"yref\":\"y\"},{\"font\":{\"color\":\"#FFFFFF\"},\"showarrow\":false,\"text\":\"-0.4\",\"x\":\"thinness  1-19 years\",\"xref\":\"x\",\"y\":\"Alcohol\",\"yref\":\"y\"},{\"font\":{\"color\":\"#FFFFFF\"},\"showarrow\":false,\"text\":\"-0.39\",\"x\":\"thinness 5-9 years\",\"xref\":\"x\",\"y\":\"Alcohol\",\"yref\":\"y\"},{\"font\":{\"color\":\"#000000\"},\"showarrow\":false,\"text\":\"0.53\",\"x\":\"Income composition of resources\",\"xref\":\"x\",\"y\":\"Alcohol\",\"yref\":\"y\"},{\"font\":{\"color\":\"#000000\"},\"showarrow\":false,\"text\":\"0.59\",\"x\":\"Schooling\",\"xref\":\"x\",\"y\":\"Alcohol\",\"yref\":\"y\"},{\"font\":{\"color\":\"#FFFFFF\"},\"showarrow\":false,\"text\":\"0.09\",\"x\":\"Year\",\"xref\":\"x\",\"y\":\"percentage expenditure\",\"yref\":\"y\"},{\"font\":{\"color\":\"#000000\"},\"showarrow\":false,\"text\":\"0.5\",\"x\":\"Status\",\"xref\":\"x\",\"y\":\"percentage expenditure\",\"yref\":\"y\"},{\"font\":{\"color\":\"#000000\"},\"showarrow\":false,\"text\":\"0.41\",\"x\":\"Life expectancy\",\"xref\":\"x\",\"y\":\"percentage expenditure\",\"yref\":\"y\"},{\"font\":{\"color\":\"#FFFFFF\"},\"showarrow\":false,\"text\":\"-0.24\",\"x\":\"Adult Mortality\",\"xref\":\"x\",\"y\":\"percentage expenditure\",\"yref\":\"y\"},{\"font\":{\"color\":\"#FFFFFF\"},\"showarrow\":false,\"text\":\"-0.09\",\"x\":\"infant deaths\",\"xref\":\"x\",\"y\":\"percentage expenditure\",\"yref\":\"y\"},{\"font\":{\"color\":\"#000000\"},\"showarrow\":false,\"text\":\"0.43\",\"x\":\"Alcohol\",\"xref\":\"x\",\"y\":\"percentage expenditure\",\"yref\":\"y\"},{\"font\":{\"color\":\"#000000\"},\"showarrow\":false,\"text\":\"1.0\",\"x\":\"percentage expenditure\",\"xref\":\"x\",\"y\":\"percentage expenditure\",\"yref\":\"y\"},{\"font\":{\"color\":\"#FFFFFF\"},\"showarrow\":false,\"text\":\"0.01\",\"x\":\"Hepatitis B\",\"xref\":\"x\",\"y\":\"percentage expenditure\",\"yref\":\"y\"},{\"font\":{\"color\":\"#FFFFFF\"},\"showarrow\":false,\"text\":\"-0.07\",\"x\":\"Measles\",\"xref\":\"x\",\"y\":\"percentage expenditure\",\"yref\":\"y\"},{\"font\":{\"color\":\"#000000\"},\"showarrow\":false,\"text\":\"0.28\",\"x\":\"BMI\",\"xref\":\"x\",\"y\":\"percentage expenditure\",\"yref\":\"y\"},{\"font\":{\"color\":\"#FFFFFF\"},\"showarrow\":false,\"text\":\"-0.09\",\"x\":\"under-five deaths\",\"xref\":\"x\",\"y\":\"percentage expenditure\",\"yref\":\"y\"},{\"font\":{\"color\":\"#FFFFFF\"},\"showarrow\":false,\"text\":\"0.16\",\"x\":\"Polio\",\"xref\":\"x\",\"y\":\"percentage expenditure\",\"yref\":\"y\"},{\"font\":{\"color\":\"#000000\"},\"showarrow\":false,\"text\":\"0.22\",\"x\":\"Total expenditure\",\"xref\":\"x\",\"y\":\"percentage expenditure\",\"yref\":\"y\"},{\"font\":{\"color\":\"#FFFFFF\"},\"showarrow\":false,\"text\":\"0.17\",\"x\":\"Diphtheria\",\"xref\":\"x\",\"y\":\"percentage expenditure\",\"yref\":\"y\"},{\"font\":{\"color\":\"#FFFFFF\"},\"showarrow\":false,\"text\":\"-0.11\",\"x\":\"HIV/AIDS\",\"xref\":\"x\",\"y\":\"percentage expenditure\",\"yref\":\"y\"},{\"font\":{\"color\":\"#000000\"},\"showarrow\":false,\"text\":\"0.96\",\"x\":\"GDP\",\"xref\":\"x\",\"y\":\"percentage expenditure\",\"yref\":\"y\"},{\"font\":{\"color\":\"#FFFFFF\"},\"showarrow\":false,\"text\":\"-0.02\",\"x\":\"Population\",\"xref\":\"x\",\"y\":\"percentage expenditure\",\"yref\":\"y\"},{\"font\":{\"color\":\"#FFFFFF\"},\"showarrow\":false,\"text\":\"-0.27\",\"x\":\"thinness  1-19 years\",\"xref\":\"x\",\"y\":\"percentage expenditure\",\"yref\":\"y\"},{\"font\":{\"color\":\"#FFFFFF\"},\"showarrow\":false,\"text\":\"-0.27\",\"x\":\"thinness 5-9 years\",\"xref\":\"x\",\"y\":\"percentage expenditure\",\"yref\":\"y\"},{\"font\":{\"color\":\"#000000\"},\"showarrow\":false,\"text\":\"0.41\",\"x\":\"Income composition of resources\",\"xref\":\"x\",\"y\":\"percentage expenditure\",\"yref\":\"y\"},{\"font\":{\"color\":\"#000000\"},\"showarrow\":false,\"text\":\"0.43\",\"x\":\"Schooling\",\"xref\":\"x\",\"y\":\"percentage expenditure\",\"yref\":\"y\"},{\"font\":{\"color\":\"#FFFFFF\"},\"showarrow\":false,\"text\":\"0.14\",\"x\":\"Year\",\"xref\":\"x\",\"y\":\"Hepatitis B\",\"yref\":\"y\"},{\"font\":{\"color\":\"#FFFFFF\"},\"showarrow\":false,\"text\":\"0.13\",\"x\":\"Status\",\"xref\":\"x\",\"y\":\"Hepatitis B\",\"yref\":\"y\"},{\"font\":{\"color\":\"#000000\"},\"showarrow\":false,\"text\":\"0.24\",\"x\":\"Life expectancy\",\"xref\":\"x\",\"y\":\"Hepatitis B\",\"yref\":\"y\"},{\"font\":{\"color\":\"#FFFFFF\"},\"showarrow\":false,\"text\":\"-0.1\",\"x\":\"Adult Mortality\",\"xref\":\"x\",\"y\":\"Hepatitis B\",\"yref\":\"y\"},{\"font\":{\"color\":\"#FFFFFF\"},\"showarrow\":false,\"text\":\"-0.22\",\"x\":\"infant deaths\",\"xref\":\"x\",\"y\":\"Hepatitis B\",\"yref\":\"y\"},{\"font\":{\"color\":\"#FFFFFF\"},\"showarrow\":false,\"text\":\"0.1\",\"x\":\"Alcohol\",\"xref\":\"x\",\"y\":\"Hepatitis B\",\"yref\":\"y\"},{\"font\":{\"color\":\"#FFFFFF\"},\"showarrow\":false,\"text\":\"0.01\",\"x\":\"percentage expenditure\",\"xref\":\"x\",\"y\":\"Hepatitis B\",\"yref\":\"y\"},{\"font\":{\"color\":\"#000000\"},\"showarrow\":false,\"text\":\"1.0\",\"x\":\"Hepatitis B\",\"xref\":\"x\",\"y\":\"Hepatitis B\",\"yref\":\"y\"},{\"font\":{\"color\":\"#FFFFFF\"},\"showarrow\":false,\"text\":\"-0.14\",\"x\":\"Measles\",\"xref\":\"x\",\"y\":\"Hepatitis B\",\"yref\":\"y\"},{\"font\":{\"color\":\"#000000\"},\"showarrow\":false,\"text\":\"0.18\",\"x\":\"BMI\",\"xref\":\"x\",\"y\":\"Hepatitis B\",\"yref\":\"y\"},{\"font\":{\"color\":\"#FFFFFF\"},\"showarrow\":false,\"text\":\"-0.23\",\"x\":\"under-five deaths\",\"xref\":\"x\",\"y\":\"Hepatitis B\",\"yref\":\"y\"},{\"font\":{\"color\":\"#000000\"},\"showarrow\":false,\"text\":\"0.47\",\"x\":\"Polio\",\"xref\":\"x\",\"y\":\"Hepatitis B\",\"yref\":\"y\"},{\"font\":{\"color\":\"#FFFFFF\"},\"showarrow\":false,\"text\":\"0.14\",\"x\":\"Total expenditure\",\"xref\":\"x\",\"y\":\"Hepatitis B\",\"yref\":\"y\"},{\"font\":{\"color\":\"#000000\"},\"showarrow\":false,\"text\":\"0.57\",\"x\":\"Diphtheria\",\"xref\":\"x\",\"y\":\"Hepatitis B\",\"yref\":\"y\"},{\"font\":{\"color\":\"#FFFFFF\"},\"showarrow\":false,\"text\":\"-0.11\",\"x\":\"HIV/AIDS\",\"xref\":\"x\",\"y\":\"Hepatitis B\",\"yref\":\"y\"},{\"font\":{\"color\":\"#FFFFFF\"},\"showarrow\":false,\"text\":\"0.02\",\"x\":\"GDP\",\"xref\":\"x\",\"y\":\"Hepatitis B\",\"yref\":\"y\"},{\"font\":{\"color\":\"#FFFFFF\"},\"showarrow\":false,\"text\":\"-0.12\",\"x\":\"Population\",\"xref\":\"x\",\"y\":\"Hepatitis B\",\"yref\":\"y\"},{\"font\":{\"color\":\"#FFFFFF\"},\"showarrow\":false,\"text\":\"-0.14\",\"x\":\"thinness  1-19 years\",\"xref\":\"x\",\"y\":\"Hepatitis B\",\"yref\":\"y\"},{\"font\":{\"color\":\"#FFFFFF\"},\"showarrow\":false,\"text\":\"-0.14\",\"x\":\"thinness 5-9 years\",\"xref\":\"x\",\"y\":\"Hepatitis B\",\"yref\":\"y\"},{\"font\":{\"color\":\"#000000\"},\"showarrow\":false,\"text\":\"0.2\",\"x\":\"Income composition of resources\",\"xref\":\"x\",\"y\":\"Hepatitis B\",\"yref\":\"y\"},{\"font\":{\"color\":\"#000000\"},\"showarrow\":false,\"text\":\"0.24\",\"x\":\"Schooling\",\"xref\":\"x\",\"y\":\"Hepatitis B\",\"yref\":\"y\"},{\"font\":{\"color\":\"#FFFFFF\"},\"showarrow\":false,\"text\":\"-0.1\",\"x\":\"Year\",\"xref\":\"x\",\"y\":\"Measles\",\"yref\":\"y\"},{\"font\":{\"color\":\"#FFFFFF\"},\"showarrow\":false,\"text\":\"-0.08\",\"x\":\"Status\",\"xref\":\"x\",\"y\":\"Measles\",\"yref\":\"y\"},{\"font\":{\"color\":\"#FFFFFF\"},\"showarrow\":false,\"text\":\"-0.14\",\"x\":\"Life expectancy\",\"xref\":\"x\",\"y\":\"Measles\",\"yref\":\"y\"},{\"font\":{\"color\":\"#FFFFFF\"},\"showarrow\":false,\"text\":\"-0.01\",\"x\":\"Adult Mortality\",\"xref\":\"x\",\"y\":\"Measles\",\"yref\":\"y\"},{\"font\":{\"color\":\"#000000\"},\"showarrow\":false,\"text\":\"0.51\",\"x\":\"infant deaths\",\"xref\":\"x\",\"y\":\"Measles\",\"yref\":\"y\"},{\"font\":{\"color\":\"#FFFFFF\"},\"showarrow\":false,\"text\":\"-0.03\",\"x\":\"Alcohol\",\"xref\":\"x\",\"y\":\"Measles\",\"yref\":\"y\"},{\"font\":{\"color\":\"#FFFFFF\"},\"showarrow\":false,\"text\":\"-0.07\",\"x\":\"percentage expenditure\",\"xref\":\"x\",\"y\":\"Measles\",\"yref\":\"y\"},{\"font\":{\"color\":\"#FFFFFF\"},\"showarrow\":false,\"text\":\"-0.14\",\"x\":\"Hepatitis B\",\"xref\":\"x\",\"y\":\"Measles\",\"yref\":\"y\"},{\"font\":{\"color\":\"#000000\"},\"showarrow\":false,\"text\":\"1.0\",\"x\":\"Measles\",\"xref\":\"x\",\"y\":\"Measles\",\"yref\":\"y\"},{\"font\":{\"color\":\"#FFFFFF\"},\"showarrow\":false,\"text\":\"-0.17\",\"x\":\"BMI\",\"xref\":\"x\",\"y\":\"Measles\",\"yref\":\"y\"},{\"font\":{\"color\":\"#000000\"},\"showarrow\":false,\"text\":\"0.52\",\"x\":\"under-five deaths\",\"xref\":\"x\",\"y\":\"Measles\",\"yref\":\"y\"},{\"font\":{\"color\":\"#FFFFFF\"},\"showarrow\":false,\"text\":\"-0.12\",\"x\":\"Polio\",\"xref\":\"x\",\"y\":\"Measles\",\"yref\":\"y\"},{\"font\":{\"color\":\"#FFFFFF\"},\"showarrow\":false,\"text\":\"-0.11\",\"x\":\"Total expenditure\",\"xref\":\"x\",\"y\":\"Measles\",\"yref\":\"y\"},{\"font\":{\"color\":\"#FFFFFF\"},\"showarrow\":false,\"text\":\"-0.12\",\"x\":\"Diphtheria\",\"xref\":\"x\",\"y\":\"Measles\",\"yref\":\"y\"},{\"font\":{\"color\":\"#FFFFFF\"},\"showarrow\":false,\"text\":\"0.02\",\"x\":\"HIV/AIDS\",\"xref\":\"x\",\"y\":\"Measles\",\"yref\":\"y\"},{\"font\":{\"color\":\"#FFFFFF\"},\"showarrow\":false,\"text\":\"-0.07\",\"x\":\"GDP\",\"xref\":\"x\",\"y\":\"Measles\",\"yref\":\"y\"},{\"font\":{\"color\":\"#000000\"},\"showarrow\":false,\"text\":\"0.27\",\"x\":\"Population\",\"xref\":\"x\",\"y\":\"Measles\",\"yref\":\"y\"},{\"font\":{\"color\":\"#000000\"},\"showarrow\":false,\"text\":\"0.23\",\"x\":\"thinness  1-19 years\",\"xref\":\"x\",\"y\":\"Measles\",\"yref\":\"y\"},{\"font\":{\"color\":\"#000000\"},\"showarrow\":false,\"text\":\"0.22\",\"x\":\"thinness 5-9 years\",\"xref\":\"x\",\"y\":\"Measles\",\"yref\":\"y\"},{\"font\":{\"color\":\"#FFFFFF\"},\"showarrow\":false,\"text\":\"-0.14\",\"x\":\"Income composition of resources\",\"xref\":\"x\",\"y\":\"Measles\",\"yref\":\"y\"},{\"font\":{\"color\":\"#FFFFFF\"},\"showarrow\":false,\"text\":\"-0.15\",\"x\":\"Schooling\",\"xref\":\"x\",\"y\":\"Measles\",\"yref\":\"y\"},{\"font\":{\"color\":\"#FFFFFF\"},\"showarrow\":false,\"text\":\"0.1\",\"x\":\"Year\",\"xref\":\"x\",\"y\":\"BMI\",\"yref\":\"y\"},{\"font\":{\"color\":\"#000000\"},\"showarrow\":false,\"text\":\"0.34\",\"x\":\"Status\",\"xref\":\"x\",\"y\":\"BMI\",\"yref\":\"y\"},{\"font\":{\"color\":\"#000000\"},\"showarrow\":false,\"text\":\"0.6\",\"x\":\"Life expectancy\",\"xref\":\"x\",\"y\":\"BMI\",\"yref\":\"y\"},{\"font\":{\"color\":\"#FFFFFF\"},\"showarrow\":false,\"text\":\"-0.37\",\"x\":\"Adult Mortality\",\"xref\":\"x\",\"y\":\"BMI\",\"yref\":\"y\"},{\"font\":{\"color\":\"#FFFFFF\"},\"showarrow\":false,\"text\":\"-0.23\",\"x\":\"infant deaths\",\"xref\":\"x\",\"y\":\"BMI\",\"yref\":\"y\"},{\"font\":{\"color\":\"#000000\"},\"showarrow\":false,\"text\":\"0.38\",\"x\":\"Alcohol\",\"xref\":\"x\",\"y\":\"BMI\",\"yref\":\"y\"},{\"font\":{\"color\":\"#000000\"},\"showarrow\":false,\"text\":\"0.28\",\"x\":\"percentage expenditure\",\"xref\":\"x\",\"y\":\"BMI\",\"yref\":\"y\"},{\"font\":{\"color\":\"#000000\"},\"showarrow\":false,\"text\":\"0.18\",\"x\":\"Hepatitis B\",\"xref\":\"x\",\"y\":\"BMI\",\"yref\":\"y\"},{\"font\":{\"color\":\"#FFFFFF\"},\"showarrow\":false,\"text\":\"-0.17\",\"x\":\"Measles\",\"xref\":\"x\",\"y\":\"BMI\",\"yref\":\"y\"},{\"font\":{\"color\":\"#000000\"},\"showarrow\":false,\"text\":\"1.0\",\"x\":\"BMI\",\"xref\":\"x\",\"y\":\"BMI\",\"yref\":\"y\"},{\"font\":{\"color\":\"#FFFFFF\"},\"showarrow\":false,\"text\":\"-0.24\",\"x\":\"under-five deaths\",\"xref\":\"x\",\"y\":\"BMI\",\"yref\":\"y\"},{\"font\":{\"color\":\"#000000\"},\"showarrow\":false,\"text\":\"0.27\",\"x\":\"Polio\",\"xref\":\"x\",\"y\":\"BMI\",\"yref\":\"y\"},{\"font\":{\"color\":\"#000000\"},\"showarrow\":false,\"text\":\"0.23\",\"x\":\"Total expenditure\",\"xref\":\"x\",\"y\":\"BMI\",\"yref\":\"y\"},{\"font\":{\"color\":\"#000000\"},\"showarrow\":false,\"text\":\"0.28\",\"x\":\"Diphtheria\",\"xref\":\"x\",\"y\":\"BMI\",\"yref\":\"y\"},{\"font\":{\"color\":\"#FFFFFF\"},\"showarrow\":false,\"text\":\"-0.24\",\"x\":\"HIV/AIDS\",\"xref\":\"x\",\"y\":\"BMI\",\"yref\":\"y\"},{\"font\":{\"color\":\"#000000\"},\"showarrow\":false,\"text\":\"0.3\",\"x\":\"GDP\",\"xref\":\"x\",\"y\":\"BMI\",\"yref\":\"y\"},{\"font\":{\"color\":\"#FFFFFF\"},\"showarrow\":false,\"text\":\"-0.07\",\"x\":\"Population\",\"xref\":\"x\",\"y\":\"BMI\",\"yref\":\"y\"},{\"font\":{\"color\":\"#FFFFFF\"},\"showarrow\":false,\"text\":\"-0.56\",\"x\":\"thinness  1-19 years\",\"xref\":\"x\",\"y\":\"BMI\",\"yref\":\"y\"},{\"font\":{\"color\":\"#FFFFFF\"},\"showarrow\":false,\"text\":\"-0.57\",\"x\":\"thinness 5-9 years\",\"xref\":\"x\",\"y\":\"BMI\",\"yref\":\"y\"},{\"font\":{\"color\":\"#000000\"},\"showarrow\":false,\"text\":\"0.55\",\"x\":\"Income composition of resources\",\"xref\":\"x\",\"y\":\"BMI\",\"yref\":\"y\"},{\"font\":{\"color\":\"#000000\"},\"showarrow\":false,\"text\":\"0.6\",\"x\":\"Schooling\",\"xref\":\"x\",\"y\":\"BMI\",\"yref\":\"y\"},{\"font\":{\"color\":\"#FFFFFF\"},\"showarrow\":false,\"text\":\"-0.04\",\"x\":\"Year\",\"xref\":\"x\",\"y\":\"under-five deaths\",\"yref\":\"y\"},{\"font\":{\"color\":\"#FFFFFF\"},\"showarrow\":false,\"text\":\"-0.11\",\"x\":\"Status\",\"xref\":\"x\",\"y\":\"under-five deaths\",\"yref\":\"y\"},{\"font\":{\"color\":\"#FFFFFF\"},\"showarrow\":false,\"text\":\"-0.19\",\"x\":\"Life expectancy\",\"xref\":\"x\",\"y\":\"under-five deaths\",\"yref\":\"y\"},{\"font\":{\"color\":\"#FFFFFF\"},\"showarrow\":false,\"text\":\"0.05\",\"x\":\"Adult Mortality\",\"xref\":\"x\",\"y\":\"under-five deaths\",\"yref\":\"y\"},{\"font\":{\"color\":\"#000000\"},\"showarrow\":false,\"text\":\"1.0\",\"x\":\"infant deaths\",\"xref\":\"x\",\"y\":\"under-five deaths\",\"yref\":\"y\"},{\"font\":{\"color\":\"#FFFFFF\"},\"showarrow\":false,\"text\":\"-0.1\",\"x\":\"Alcohol\",\"xref\":\"x\",\"y\":\"under-five deaths\",\"yref\":\"y\"},{\"font\":{\"color\":\"#FFFFFF\"},\"showarrow\":false,\"text\":\"-0.09\",\"x\":\"percentage expenditure\",\"xref\":\"x\",\"y\":\"under-five deaths\",\"yref\":\"y\"},{\"font\":{\"color\":\"#FFFFFF\"},\"showarrow\":false,\"text\":\"-0.23\",\"x\":\"Hepatitis B\",\"xref\":\"x\",\"y\":\"under-five deaths\",\"yref\":\"y\"},{\"font\":{\"color\":\"#000000\"},\"showarrow\":false,\"text\":\"0.52\",\"x\":\"Measles\",\"xref\":\"x\",\"y\":\"under-five deaths\",\"yref\":\"y\"},{\"font\":{\"color\":\"#FFFFFF\"},\"showarrow\":false,\"text\":\"-0.24\",\"x\":\"BMI\",\"xref\":\"x\",\"y\":\"under-five deaths\",\"yref\":\"y\"},{\"font\":{\"color\":\"#000000\"},\"showarrow\":false,\"text\":\"1.0\",\"x\":\"under-five deaths\",\"xref\":\"x\",\"y\":\"under-five deaths\",\"yref\":\"y\"},{\"font\":{\"color\":\"#FFFFFF\"},\"showarrow\":false,\"text\":\"-0.18\",\"x\":\"Polio\",\"xref\":\"x\",\"y\":\"under-five deaths\",\"yref\":\"y\"},{\"font\":{\"color\":\"#FFFFFF\"},\"showarrow\":false,\"text\":\"-0.15\",\"x\":\"Total expenditure\",\"xref\":\"x\",\"y\":\"under-five deaths\",\"yref\":\"y\"},{\"font\":{\"color\":\"#FFFFFF\"},\"showarrow\":false,\"text\":\"-0.18\",\"x\":\"Diphtheria\",\"xref\":\"x\",\"y\":\"under-five deaths\",\"yref\":\"y\"},{\"font\":{\"color\":\"#FFFFFF\"},\"showarrow\":false,\"text\":\"0.01\",\"x\":\"HIV/AIDS\",\"xref\":\"x\",\"y\":\"under-five deaths\",\"yref\":\"y\"},{\"font\":{\"color\":\"#FFFFFF\"},\"showarrow\":false,\"text\":\"-0.1\",\"x\":\"GDP\",\"xref\":\"x\",\"y\":\"under-five deaths\",\"yref\":\"y\"},{\"font\":{\"color\":\"#000000\"},\"showarrow\":false,\"text\":\"0.55\",\"x\":\"Population\",\"xref\":\"x\",\"y\":\"under-five deaths\",\"yref\":\"y\"},{\"font\":{\"color\":\"#000000\"},\"showarrow\":false,\"text\":\"0.48\",\"x\":\"thinness  1-19 years\",\"xref\":\"x\",\"y\":\"under-five deaths\",\"yref\":\"y\"},{\"font\":{\"color\":\"#000000\"},\"showarrow\":false,\"text\":\"0.49\",\"x\":\"thinness 5-9 years\",\"xref\":\"x\",\"y\":\"under-five deaths\",\"yref\":\"y\"},{\"font\":{\"color\":\"#FFFFFF\"},\"showarrow\":false,\"text\":\"-0.16\",\"x\":\"Income composition of resources\",\"xref\":\"x\",\"y\":\"under-five deaths\",\"yref\":\"y\"},{\"font\":{\"color\":\"#FFFFFF\"},\"showarrow\":false,\"text\":\"-0.22\",\"x\":\"Schooling\",\"xref\":\"x\",\"y\":\"under-five deaths\",\"yref\":\"y\"},{\"font\":{\"color\":\"#FFFFFF\"},\"showarrow\":false,\"text\":\"0.11\",\"x\":\"Year\",\"xref\":\"x\",\"y\":\"Polio\",\"yref\":\"y\"},{\"font\":{\"color\":\"#000000\"},\"showarrow\":false,\"text\":\"0.23\",\"x\":\"Status\",\"xref\":\"x\",\"y\":\"Polio\",\"yref\":\"y\"},{\"font\":{\"color\":\"#000000\"},\"showarrow\":false,\"text\":\"0.43\",\"x\":\"Life expectancy\",\"xref\":\"x\",\"y\":\"Polio\",\"yref\":\"y\"},{\"font\":{\"color\":\"#FFFFFF\"},\"showarrow\":false,\"text\":\"-0.21\",\"x\":\"Adult Mortality\",\"xref\":\"x\",\"y\":\"Polio\",\"yref\":\"y\"},{\"font\":{\"color\":\"#FFFFFF\"},\"showarrow\":false,\"text\":\"-0.16\",\"x\":\"infant deaths\",\"xref\":\"x\",\"y\":\"Polio\",\"yref\":\"y\"},{\"font\":{\"color\":\"#000000\"},\"showarrow\":false,\"text\":\"0.23\",\"x\":\"Alcohol\",\"xref\":\"x\",\"y\":\"Polio\",\"yref\":\"y\"},{\"font\":{\"color\":\"#FFFFFF\"},\"showarrow\":false,\"text\":\"0.16\",\"x\":\"percentage expenditure\",\"xref\":\"x\",\"y\":\"Polio\",\"yref\":\"y\"},{\"font\":{\"color\":\"#000000\"},\"showarrow\":false,\"text\":\"0.47\",\"x\":\"Hepatitis B\",\"xref\":\"x\",\"y\":\"Polio\",\"yref\":\"y\"},{\"font\":{\"color\":\"#FFFFFF\"},\"showarrow\":false,\"text\":\"-0.12\",\"x\":\"Measles\",\"xref\":\"x\",\"y\":\"Polio\",\"yref\":\"y\"},{\"font\":{\"color\":\"#000000\"},\"showarrow\":false,\"text\":\"0.27\",\"x\":\"BMI\",\"xref\":\"x\",\"y\":\"Polio\",\"yref\":\"y\"},{\"font\":{\"color\":\"#FFFFFF\"},\"showarrow\":false,\"text\":\"-0.18\",\"x\":\"under-five deaths\",\"xref\":\"x\",\"y\":\"Polio\",\"yref\":\"y\"},{\"font\":{\"color\":\"#000000\"},\"showarrow\":false,\"text\":\"1.0\",\"x\":\"Polio\",\"xref\":\"x\",\"y\":\"Polio\",\"yref\":\"y\"},{\"font\":{\"color\":\"#FFFFFF\"},\"showarrow\":false,\"text\":\"0.16\",\"x\":\"Total expenditure\",\"xref\":\"x\",\"y\":\"Polio\",\"yref\":\"y\"},{\"font\":{\"color\":\"#000000\"},\"showarrow\":false,\"text\":\"0.67\",\"x\":\"Diphtheria\",\"xref\":\"x\",\"y\":\"Polio\",\"yref\":\"y\"},{\"font\":{\"color\":\"#FFFFFF\"},\"showarrow\":false,\"text\":\"-0.14\",\"x\":\"HIV/AIDS\",\"xref\":\"x\",\"y\":\"Polio\",\"yref\":\"y\"},{\"font\":{\"color\":\"#000000\"},\"showarrow\":false,\"text\":\"0.19\",\"x\":\"GDP\",\"xref\":\"x\",\"y\":\"Polio\",\"yref\":\"y\"},{\"font\":{\"color\":\"#FFFFFF\"},\"showarrow\":false,\"text\":\"-0.03\",\"x\":\"Population\",\"xref\":\"x\",\"y\":\"Polio\",\"yref\":\"y\"},{\"font\":{\"color\":\"#FFFFFF\"},\"showarrow\":false,\"text\":\"-0.21\",\"x\":\"thinness  1-19 years\",\"xref\":\"x\",\"y\":\"Polio\",\"yref\":\"y\"},{\"font\":{\"color\":\"#FFFFFF\"},\"showarrow\":false,\"text\":\"-0.21\",\"x\":\"thinness 5-9 years\",\"xref\":\"x\",\"y\":\"Polio\",\"yref\":\"y\"},{\"font\":{\"color\":\"#000000\"},\"showarrow\":false,\"text\":\"0.39\",\"x\":\"Income composition of resources\",\"xref\":\"x\",\"y\":\"Polio\",\"yref\":\"y\"},{\"font\":{\"color\":\"#000000\"},\"showarrow\":false,\"text\":\"0.43\",\"x\":\"Schooling\",\"xref\":\"x\",\"y\":\"Polio\",\"yref\":\"y\"},{\"font\":{\"color\":\"#FFFFFF\"},\"showarrow\":false,\"text\":\"0.08\",\"x\":\"Year\",\"xref\":\"x\",\"y\":\"Total expenditure\",\"yref\":\"y\"},{\"font\":{\"color\":\"#000000\"},\"showarrow\":false,\"text\":\"0.22\",\"x\":\"Status\",\"xref\":\"x\",\"y\":\"Total expenditure\",\"yref\":\"y\"},{\"font\":{\"color\":\"#000000\"},\"showarrow\":false,\"text\":\"0.2\",\"x\":\"Life expectancy\",\"xref\":\"x\",\"y\":\"Total expenditure\",\"yref\":\"y\"},{\"font\":{\"color\":\"#FFFFFF\"},\"showarrow\":false,\"text\":\"-0.1\",\"x\":\"Adult Mortality\",\"xref\":\"x\",\"y\":\"Total expenditure\",\"yref\":\"y\"},{\"font\":{\"color\":\"#FFFFFF\"},\"showarrow\":false,\"text\":\"-0.15\",\"x\":\"infant deaths\",\"xref\":\"x\",\"y\":\"Total expenditure\",\"yref\":\"y\"},{\"font\":{\"color\":\"#000000\"},\"showarrow\":false,\"text\":\"0.23\",\"x\":\"Alcohol\",\"xref\":\"x\",\"y\":\"Total expenditure\",\"yref\":\"y\"},{\"font\":{\"color\":\"#000000\"},\"showarrow\":false,\"text\":\"0.22\",\"x\":\"percentage expenditure\",\"xref\":\"x\",\"y\":\"Total expenditure\",\"yref\":\"y\"},{\"font\":{\"color\":\"#FFFFFF\"},\"showarrow\":false,\"text\":\"0.14\",\"x\":\"Hepatitis B\",\"xref\":\"x\",\"y\":\"Total expenditure\",\"yref\":\"y\"},{\"font\":{\"color\":\"#FFFFFF\"},\"showarrow\":false,\"text\":\"-0.11\",\"x\":\"Measles\",\"xref\":\"x\",\"y\":\"Total expenditure\",\"yref\":\"y\"},{\"font\":{\"color\":\"#000000\"},\"showarrow\":false,\"text\":\"0.23\",\"x\":\"BMI\",\"xref\":\"x\",\"y\":\"Total expenditure\",\"yref\":\"y\"},{\"font\":{\"color\":\"#FFFFFF\"},\"showarrow\":false,\"text\":\"-0.15\",\"x\":\"under-five deaths\",\"xref\":\"x\",\"y\":\"Total expenditure\",\"yref\":\"y\"},{\"font\":{\"color\":\"#FFFFFF\"},\"showarrow\":false,\"text\":\"0.16\",\"x\":\"Polio\",\"xref\":\"x\",\"y\":\"Total expenditure\",\"yref\":\"y\"},{\"font\":{\"color\":\"#000000\"},\"showarrow\":false,\"text\":\"1.0\",\"x\":\"Total expenditure\",\"xref\":\"x\",\"y\":\"Total expenditure\",\"yref\":\"y\"},{\"font\":{\"color\":\"#000000\"},\"showarrow\":false,\"text\":\"0.18\",\"x\":\"Diphtheria\",\"xref\":\"x\",\"y\":\"Total expenditure\",\"yref\":\"y\"},{\"font\":{\"color\":\"#FFFFFF\"},\"showarrow\":false,\"text\":\"0.03\",\"x\":\"HIV/AIDS\",\"xref\":\"x\",\"y\":\"Total expenditure\",\"yref\":\"y\"},{\"font\":{\"color\":\"#000000\"},\"showarrow\":false,\"text\":\"0.21\",\"x\":\"GDP\",\"xref\":\"x\",\"y\":\"Total expenditure\",\"yref\":\"y\"},{\"font\":{\"color\":\"#FFFFFF\"},\"showarrow\":false,\"text\":\"-0.08\",\"x\":\"Population\",\"xref\":\"x\",\"y\":\"Total expenditure\",\"yref\":\"y\"},{\"font\":{\"color\":\"#FFFFFF\"},\"showarrow\":false,\"text\":\"-0.23\",\"x\":\"thinness  1-19 years\",\"xref\":\"x\",\"y\":\"Total expenditure\",\"yref\":\"y\"},{\"font\":{\"color\":\"#FFFFFF\"},\"showarrow\":false,\"text\":\"-0.25\",\"x\":\"thinness 5-9 years\",\"xref\":\"x\",\"y\":\"Total expenditure\",\"yref\":\"y\"},{\"font\":{\"color\":\"#000000\"},\"showarrow\":false,\"text\":\"0.2\",\"x\":\"Income composition of resources\",\"xref\":\"x\",\"y\":\"Total expenditure\",\"yref\":\"y\"},{\"font\":{\"color\":\"#000000\"},\"showarrow\":false,\"text\":\"0.27\",\"x\":\"Schooling\",\"xref\":\"x\",\"y\":\"Total expenditure\",\"yref\":\"y\"},{\"font\":{\"color\":\"#FFFFFF\"},\"showarrow\":false,\"text\":\"0.16\",\"x\":\"Year\",\"xref\":\"x\",\"y\":\"Diphtheria\",\"yref\":\"y\"},{\"font\":{\"color\":\"#000000\"},\"showarrow\":false,\"text\":\"0.23\",\"x\":\"Status\",\"xref\":\"x\",\"y\":\"Diphtheria\",\"yref\":\"y\"},{\"font\":{\"color\":\"#000000\"},\"showarrow\":false,\"text\":\"0.45\",\"x\":\"Life expectancy\",\"xref\":\"x\",\"y\":\"Diphtheria\",\"yref\":\"y\"},{\"font\":{\"color\":\"#FFFFFF\"},\"showarrow\":false,\"text\":\"-0.22\",\"x\":\"Adult Mortality\",\"xref\":\"x\",\"y\":\"Diphtheria\",\"yref\":\"y\"},{\"font\":{\"color\":\"#FFFFFF\"},\"showarrow\":false,\"text\":\"-0.16\",\"x\":\"infant deaths\",\"xref\":\"x\",\"y\":\"Diphtheria\",\"yref\":\"y\"},{\"font\":{\"color\":\"#000000\"},\"showarrow\":false,\"text\":\"0.24\",\"x\":\"Alcohol\",\"xref\":\"x\",\"y\":\"Diphtheria\",\"yref\":\"y\"},{\"font\":{\"color\":\"#FFFFFF\"},\"showarrow\":false,\"text\":\"0.17\",\"x\":\"percentage expenditure\",\"xref\":\"x\",\"y\":\"Diphtheria\",\"yref\":\"y\"},{\"font\":{\"color\":\"#000000\"},\"showarrow\":false,\"text\":\"0.57\",\"x\":\"Hepatitis B\",\"xref\":\"x\",\"y\":\"Diphtheria\",\"yref\":\"y\"},{\"font\":{\"color\":\"#FFFFFF\"},\"showarrow\":false,\"text\":\"-0.12\",\"x\":\"Measles\",\"xref\":\"x\",\"y\":\"Diphtheria\",\"yref\":\"y\"},{\"font\":{\"color\":\"#000000\"},\"showarrow\":false,\"text\":\"0.28\",\"x\":\"BMI\",\"xref\":\"x\",\"y\":\"Diphtheria\",\"yref\":\"y\"},{\"font\":{\"color\":\"#FFFFFF\"},\"showarrow\":false,\"text\":\"-0.18\",\"x\":\"under-five deaths\",\"xref\":\"x\",\"y\":\"Diphtheria\",\"yref\":\"y\"},{\"font\":{\"color\":\"#000000\"},\"showarrow\":false,\"text\":\"0.67\",\"x\":\"Polio\",\"xref\":\"x\",\"y\":\"Diphtheria\",\"yref\":\"y\"},{\"font\":{\"color\":\"#000000\"},\"showarrow\":false,\"text\":\"0.18\",\"x\":\"Total expenditure\",\"xref\":\"x\",\"y\":\"Diphtheria\",\"yref\":\"y\"},{\"font\":{\"color\":\"#000000\"},\"showarrow\":false,\"text\":\"1.0\",\"x\":\"Diphtheria\",\"xref\":\"x\",\"y\":\"Diphtheria\",\"yref\":\"y\"},{\"font\":{\"color\":\"#FFFFFF\"},\"showarrow\":false,\"text\":\"-0.15\",\"x\":\"HIV/AIDS\",\"xref\":\"x\",\"y\":\"Diphtheria\",\"yref\":\"y\"},{\"font\":{\"color\":\"#000000\"},\"showarrow\":false,\"text\":\"0.19\",\"x\":\"GDP\",\"xref\":\"x\",\"y\":\"Diphtheria\",\"yref\":\"y\"},{\"font\":{\"color\":\"#FFFFFF\"},\"showarrow\":false,\"text\":\"-0.02\",\"x\":\"Population\",\"xref\":\"x\",\"y\":\"Diphtheria\",\"yref\":\"y\"},{\"font\":{\"color\":\"#FFFFFF\"},\"showarrow\":false,\"text\":\"-0.23\",\"x\":\"thinness  1-19 years\",\"xref\":\"x\",\"y\":\"Diphtheria\",\"yref\":\"y\"},{\"font\":{\"color\":\"#FFFFFF\"},\"showarrow\":false,\"text\":\"-0.22\",\"x\":\"thinness 5-9 years\",\"xref\":\"x\",\"y\":\"Diphtheria\",\"yref\":\"y\"},{\"font\":{\"color\":\"#000000\"},\"showarrow\":false,\"text\":\"0.43\",\"x\":\"Income composition of resources\",\"xref\":\"x\",\"y\":\"Diphtheria\",\"yref\":\"y\"},{\"font\":{\"color\":\"#000000\"},\"showarrow\":false,\"text\":\"0.45\",\"x\":\"Schooling\",\"xref\":\"x\",\"y\":\"Diphtheria\",\"yref\":\"y\"},{\"font\":{\"color\":\"#FFFFFF\"},\"showarrow\":false,\"text\":\"-0.15\",\"x\":\"Year\",\"xref\":\"x\",\"y\":\"HIV/AIDS\",\"yref\":\"y\"},{\"font\":{\"color\":\"#FFFFFF\"},\"showarrow\":false,\"text\":\"-0.15\",\"x\":\"Status\",\"xref\":\"x\",\"y\":\"HIV/AIDS\",\"yref\":\"y\"},{\"font\":{\"color\":\"#FFFFFF\"},\"showarrow\":false,\"text\":\"-0.58\",\"x\":\"Life expectancy\",\"xref\":\"x\",\"y\":\"HIV/AIDS\",\"yref\":\"y\"},{\"font\":{\"color\":\"#000000\"},\"showarrow\":false,\"text\":\"0.54\",\"x\":\"Adult Mortality\",\"xref\":\"x\",\"y\":\"HIV/AIDS\",\"yref\":\"y\"},{\"font\":{\"color\":\"#FFFFFF\"},\"showarrow\":false,\"text\":\"0.0\",\"x\":\"infant deaths\",\"xref\":\"x\",\"y\":\"HIV/AIDS\",\"yref\":\"y\"},{\"font\":{\"color\":\"#FFFFFF\"},\"showarrow\":false,\"text\":\"-0.04\",\"x\":\"Alcohol\",\"xref\":\"x\",\"y\":\"HIV/AIDS\",\"yref\":\"y\"},{\"font\":{\"color\":\"#FFFFFF\"},\"showarrow\":false,\"text\":\"-0.11\",\"x\":\"percentage expenditure\",\"xref\":\"x\",\"y\":\"HIV/AIDS\",\"yref\":\"y\"},{\"font\":{\"color\":\"#FFFFFF\"},\"showarrow\":false,\"text\":\"-0.11\",\"x\":\"Hepatitis B\",\"xref\":\"x\",\"y\":\"HIV/AIDS\",\"yref\":\"y\"},{\"font\":{\"color\":\"#FFFFFF\"},\"showarrow\":false,\"text\":\"0.02\",\"x\":\"Measles\",\"xref\":\"x\",\"y\":\"HIV/AIDS\",\"yref\":\"y\"},{\"font\":{\"color\":\"#FFFFFF\"},\"showarrow\":false,\"text\":\"-0.24\",\"x\":\"BMI\",\"xref\":\"x\",\"y\":\"HIV/AIDS\",\"yref\":\"y\"},{\"font\":{\"color\":\"#FFFFFF\"},\"showarrow\":false,\"text\":\"0.01\",\"x\":\"under-five deaths\",\"xref\":\"x\",\"y\":\"HIV/AIDS\",\"yref\":\"y\"},{\"font\":{\"color\":\"#FFFFFF\"},\"showarrow\":false,\"text\":\"-0.14\",\"x\":\"Polio\",\"xref\":\"x\",\"y\":\"HIV/AIDS\",\"yref\":\"y\"},{\"font\":{\"color\":\"#FFFFFF\"},\"showarrow\":false,\"text\":\"0.03\",\"x\":\"Total expenditure\",\"xref\":\"x\",\"y\":\"HIV/AIDS\",\"yref\":\"y\"},{\"font\":{\"color\":\"#FFFFFF\"},\"showarrow\":false,\"text\":\"-0.15\",\"x\":\"Diphtheria\",\"xref\":\"x\",\"y\":\"HIV/AIDS\",\"yref\":\"y\"},{\"font\":{\"color\":\"#000000\"},\"showarrow\":false,\"text\":\"1.0\",\"x\":\"HIV/AIDS\",\"xref\":\"x\",\"y\":\"HIV/AIDS\",\"yref\":\"y\"},{\"font\":{\"color\":\"#FFFFFF\"},\"showarrow\":false,\"text\":\"-0.12\",\"x\":\"GDP\",\"xref\":\"x\",\"y\":\"HIV/AIDS\",\"yref\":\"y\"},{\"font\":{\"color\":\"#FFFFFF\"},\"showarrow\":false,\"text\":\"-0.03\",\"x\":\"Population\",\"xref\":\"x\",\"y\":\"HIV/AIDS\",\"yref\":\"y\"},{\"font\":{\"color\":\"#000000\"},\"showarrow\":false,\"text\":\"0.2\",\"x\":\"thinness  1-19 years\",\"xref\":\"x\",\"y\":\"HIV/AIDS\",\"yref\":\"y\"},{\"font\":{\"color\":\"#000000\"},\"showarrow\":false,\"text\":\"0.2\",\"x\":\"thinness 5-9 years\",\"xref\":\"x\",\"y\":\"HIV/AIDS\",\"yref\":\"y\"},{\"font\":{\"color\":\"#FFFFFF\"},\"showarrow\":false,\"text\":\"-0.25\",\"x\":\"Income composition of resources\",\"xref\":\"x\",\"y\":\"HIV/AIDS\",\"yref\":\"y\"},{\"font\":{\"color\":\"#FFFFFF\"},\"showarrow\":false,\"text\":\"-0.22\",\"x\":\"Schooling\",\"xref\":\"x\",\"y\":\"HIV/AIDS\",\"yref\":\"y\"},{\"font\":{\"color\":\"#FFFFFF\"},\"showarrow\":false,\"text\":\"0.12\",\"x\":\"Year\",\"xref\":\"x\",\"y\":\"GDP\",\"yref\":\"y\"},{\"font\":{\"color\":\"#000000\"},\"showarrow\":false,\"text\":\"0.52\",\"x\":\"Status\",\"xref\":\"x\",\"y\":\"GDP\",\"yref\":\"y\"},{\"font\":{\"color\":\"#000000\"},\"showarrow\":false,\"text\":\"0.44\",\"x\":\"Life expectancy\",\"xref\":\"x\",\"y\":\"GDP\",\"yref\":\"y\"},{\"font\":{\"color\":\"#FFFFFF\"},\"showarrow\":false,\"text\":\"-0.26\",\"x\":\"Adult Mortality\",\"xref\":\"x\",\"y\":\"GDP\",\"yref\":\"y\"},{\"font\":{\"color\":\"#FFFFFF\"},\"showarrow\":false,\"text\":\"-0.1\",\"x\":\"infant deaths\",\"xref\":\"x\",\"y\":\"GDP\",\"yref\":\"y\"},{\"font\":{\"color\":\"#000000\"},\"showarrow\":false,\"text\":\"0.46\",\"x\":\"Alcohol\",\"xref\":\"x\",\"y\":\"GDP\",\"yref\":\"y\"},{\"font\":{\"color\":\"#000000\"},\"showarrow\":false,\"text\":\"0.96\",\"x\":\"percentage expenditure\",\"xref\":\"x\",\"y\":\"GDP\",\"yref\":\"y\"},{\"font\":{\"color\":\"#FFFFFF\"},\"showarrow\":false,\"text\":\"0.02\",\"x\":\"Hepatitis B\",\"xref\":\"x\",\"y\":\"GDP\",\"yref\":\"y\"},{\"font\":{\"color\":\"#FFFFFF\"},\"showarrow\":false,\"text\":\"-0.07\",\"x\":\"Measles\",\"xref\":\"x\",\"y\":\"GDP\",\"yref\":\"y\"},{\"font\":{\"color\":\"#000000\"},\"showarrow\":false,\"text\":\"0.3\",\"x\":\"BMI\",\"xref\":\"x\",\"y\":\"GDP\",\"yref\":\"y\"},{\"font\":{\"color\":\"#FFFFFF\"},\"showarrow\":false,\"text\":\"-0.1\",\"x\":\"under-five deaths\",\"xref\":\"x\",\"y\":\"GDP\",\"yref\":\"y\"},{\"font\":{\"color\":\"#000000\"},\"showarrow\":false,\"text\":\"0.19\",\"x\":\"Polio\",\"xref\":\"x\",\"y\":\"GDP\",\"yref\":\"y\"},{\"font\":{\"color\":\"#000000\"},\"showarrow\":false,\"text\":\"0.21\",\"x\":\"Total expenditure\",\"xref\":\"x\",\"y\":\"GDP\",\"yref\":\"y\"},{\"font\":{\"color\":\"#000000\"},\"showarrow\":false,\"text\":\"0.19\",\"x\":\"Diphtheria\",\"xref\":\"x\",\"y\":\"GDP\",\"yref\":\"y\"},{\"font\":{\"color\":\"#FFFFFF\"},\"showarrow\":false,\"text\":\"-0.12\",\"x\":\"HIV/AIDS\",\"xref\":\"x\",\"y\":\"GDP\",\"yref\":\"y\"},{\"font\":{\"color\":\"#000000\"},\"showarrow\":false,\"text\":\"1.0\",\"x\":\"GDP\",\"xref\":\"x\",\"y\":\"GDP\",\"yref\":\"y\"},{\"font\":{\"color\":\"#FFFFFF\"},\"showarrow\":false,\"text\":\"-0.02\",\"x\":\"Population\",\"xref\":\"x\",\"y\":\"GDP\",\"yref\":\"y\"},{\"font\":{\"color\":\"#FFFFFF\"},\"showarrow\":false,\"text\":\"-0.29\",\"x\":\"thinness  1-19 years\",\"xref\":\"x\",\"y\":\"GDP\",\"yref\":\"y\"},{\"font\":{\"color\":\"#FFFFFF\"},\"showarrow\":false,\"text\":\"-0.29\",\"x\":\"thinness 5-9 years\",\"xref\":\"x\",\"y\":\"GDP\",\"yref\":\"y\"},{\"font\":{\"color\":\"#000000\"},\"showarrow\":false,\"text\":\"0.45\",\"x\":\"Income composition of resources\",\"xref\":\"x\",\"y\":\"GDP\",\"yref\":\"y\"},{\"font\":{\"color\":\"#000000\"},\"showarrow\":false,\"text\":\"0.47\",\"x\":\"Schooling\",\"xref\":\"x\",\"y\":\"GDP\",\"yref\":\"y\"},{\"font\":{\"color\":\"#FFFFFF\"},\"showarrow\":false,\"text\":\"0.02\",\"x\":\"Year\",\"xref\":\"x\",\"y\":\"Population\",\"yref\":\"y\"},{\"font\":{\"color\":\"#FFFFFF\"},\"showarrow\":false,\"text\":\"-0.03\",\"x\":\"Status\",\"xref\":\"x\",\"y\":\"Population\",\"yref\":\"y\"},{\"font\":{\"color\":\"#FFFFFF\"},\"showarrow\":false,\"text\":\"-0.01\",\"x\":\"Life expectancy\",\"xref\":\"x\",\"y\":\"Population\",\"yref\":\"y\"},{\"font\":{\"color\":\"#FFFFFF\"},\"showarrow\":false,\"text\":\"-0.02\",\"x\":\"Adult Mortality\",\"xref\":\"x\",\"y\":\"Population\",\"yref\":\"y\"},{\"font\":{\"color\":\"#000000\"},\"showarrow\":false,\"text\":\"0.56\",\"x\":\"infant deaths\",\"xref\":\"x\",\"y\":\"Population\",\"yref\":\"y\"},{\"font\":{\"color\":\"#FFFFFF\"},\"showarrow\":false,\"text\":\"-0.03\",\"x\":\"Alcohol\",\"xref\":\"x\",\"y\":\"Population\",\"yref\":\"y\"},{\"font\":{\"color\":\"#FFFFFF\"},\"showarrow\":false,\"text\":\"-0.02\",\"x\":\"percentage expenditure\",\"xref\":\"x\",\"y\":\"Population\",\"yref\":\"y\"},{\"font\":{\"color\":\"#FFFFFF\"},\"showarrow\":false,\"text\":\"-0.12\",\"x\":\"Hepatitis B\",\"xref\":\"x\",\"y\":\"Population\",\"yref\":\"y\"},{\"font\":{\"color\":\"#000000\"},\"showarrow\":false,\"text\":\"0.27\",\"x\":\"Measles\",\"xref\":\"x\",\"y\":\"Population\",\"yref\":\"y\"},{\"font\":{\"color\":\"#FFFFFF\"},\"showarrow\":false,\"text\":\"-0.07\",\"x\":\"BMI\",\"xref\":\"x\",\"y\":\"Population\",\"yref\":\"y\"},{\"font\":{\"color\":\"#000000\"},\"showarrow\":false,\"text\":\"0.55\",\"x\":\"under-five deaths\",\"xref\":\"x\",\"y\":\"Population\",\"yref\":\"y\"},{\"font\":{\"color\":\"#FFFFFF\"},\"showarrow\":false,\"text\":\"-0.03\",\"x\":\"Polio\",\"xref\":\"x\",\"y\":\"Population\",\"yref\":\"y\"},{\"font\":{\"color\":\"#FFFFFF\"},\"showarrow\":false,\"text\":\"-0.08\",\"x\":\"Total expenditure\",\"xref\":\"x\",\"y\":\"Population\",\"yref\":\"y\"},{\"font\":{\"color\":\"#FFFFFF\"},\"showarrow\":false,\"text\":\"-0.02\",\"x\":\"Diphtheria\",\"xref\":\"x\",\"y\":\"Population\",\"yref\":\"y\"},{\"font\":{\"color\":\"#FFFFFF\"},\"showarrow\":false,\"text\":\"-0.03\",\"x\":\"HIV/AIDS\",\"xref\":\"x\",\"y\":\"Population\",\"yref\":\"y\"},{\"font\":{\"color\":\"#FFFFFF\"},\"showarrow\":false,\"text\":\"-0.02\",\"x\":\"GDP\",\"xref\":\"x\",\"y\":\"Population\",\"yref\":\"y\"},{\"font\":{\"color\":\"#000000\"},\"showarrow\":false,\"text\":\"1.0\",\"x\":\"Population\",\"xref\":\"x\",\"y\":\"Population\",\"yref\":\"y\"},{\"font\":{\"color\":\"#000000\"},\"showarrow\":false,\"text\":\"0.26\",\"x\":\"thinness  1-19 years\",\"xref\":\"x\",\"y\":\"Population\",\"yref\":\"y\"},{\"font\":{\"color\":\"#000000\"},\"showarrow\":false,\"text\":\"0.26\",\"x\":\"thinness 5-9 years\",\"xref\":\"x\",\"y\":\"Population\",\"yref\":\"y\"},{\"font\":{\"color\":\"#FFFFFF\"},\"showarrow\":false,\"text\":\"0.0\",\"x\":\"Income composition of resources\",\"xref\":\"x\",\"y\":\"Population\",\"yref\":\"y\"},{\"font\":{\"color\":\"#FFFFFF\"},\"showarrow\":false,\"text\":\"-0.03\",\"x\":\"Schooling\",\"xref\":\"x\",\"y\":\"Population\",\"yref\":\"y\"},{\"font\":{\"color\":\"#FFFFFF\"},\"showarrow\":false,\"text\":\"-0.05\",\"x\":\"Year\",\"xref\":\"x\",\"y\":\"thinness  1-19 years\",\"yref\":\"y\"},{\"font\":{\"color\":\"#FFFFFF\"},\"showarrow\":false,\"text\":\"-0.32\",\"x\":\"Status\",\"xref\":\"x\",\"y\":\"thinness  1-19 years\",\"yref\":\"y\"},{\"font\":{\"color\":\"#FFFFFF\"},\"showarrow\":false,\"text\":\"-0.46\",\"x\":\"Life expectancy\",\"xref\":\"x\",\"y\":\"thinness  1-19 years\",\"yref\":\"y\"},{\"font\":{\"color\":\"#000000\"},\"showarrow\":false,\"text\":\"0.28\",\"x\":\"Adult Mortality\",\"xref\":\"x\",\"y\":\"thinness  1-19 years\",\"yref\":\"y\"},{\"font\":{\"color\":\"#000000\"},\"showarrow\":false,\"text\":\"0.48\",\"x\":\"infant deaths\",\"xref\":\"x\",\"y\":\"thinness  1-19 years\",\"yref\":\"y\"},{\"font\":{\"color\":\"#FFFFFF\"},\"showarrow\":false,\"text\":\"-0.4\",\"x\":\"Alcohol\",\"xref\":\"x\",\"y\":\"thinness  1-19 years\",\"yref\":\"y\"},{\"font\":{\"color\":\"#FFFFFF\"},\"showarrow\":false,\"text\":\"-0.27\",\"x\":\"percentage expenditure\",\"xref\":\"x\",\"y\":\"thinness  1-19 years\",\"yref\":\"y\"},{\"font\":{\"color\":\"#FFFFFF\"},\"showarrow\":false,\"text\":\"-0.14\",\"x\":\"Hepatitis B\",\"xref\":\"x\",\"y\":\"thinness  1-19 years\",\"yref\":\"y\"},{\"font\":{\"color\":\"#000000\"},\"showarrow\":false,\"text\":\"0.23\",\"x\":\"Measles\",\"xref\":\"x\",\"y\":\"thinness  1-19 years\",\"yref\":\"y\"},{\"font\":{\"color\":\"#FFFFFF\"},\"showarrow\":false,\"text\":\"-0.56\",\"x\":\"BMI\",\"xref\":\"x\",\"y\":\"thinness  1-19 years\",\"yref\":\"y\"},{\"font\":{\"color\":\"#000000\"},\"showarrow\":false,\"text\":\"0.48\",\"x\":\"under-five deaths\",\"xref\":\"x\",\"y\":\"thinness  1-19 years\",\"yref\":\"y\"},{\"font\":{\"color\":\"#FFFFFF\"},\"showarrow\":false,\"text\":\"-0.21\",\"x\":\"Polio\",\"xref\":\"x\",\"y\":\"thinness  1-19 years\",\"yref\":\"y\"},{\"font\":{\"color\":\"#FFFFFF\"},\"showarrow\":false,\"text\":\"-0.23\",\"x\":\"Total expenditure\",\"xref\":\"x\",\"y\":\"thinness  1-19 years\",\"yref\":\"y\"},{\"font\":{\"color\":\"#FFFFFF\"},\"showarrow\":false,\"text\":\"-0.23\",\"x\":\"Diphtheria\",\"xref\":\"x\",\"y\":\"thinness  1-19 years\",\"yref\":\"y\"},{\"font\":{\"color\":\"#000000\"},\"showarrow\":false,\"text\":\"0.2\",\"x\":\"HIV/AIDS\",\"xref\":\"x\",\"y\":\"thinness  1-19 years\",\"yref\":\"y\"},{\"font\":{\"color\":\"#FFFFFF\"},\"showarrow\":false,\"text\":\"-0.29\",\"x\":\"GDP\",\"xref\":\"x\",\"y\":\"thinness  1-19 years\",\"yref\":\"y\"},{\"font\":{\"color\":\"#000000\"},\"showarrow\":false,\"text\":\"0.26\",\"x\":\"Population\",\"xref\":\"x\",\"y\":\"thinness  1-19 years\",\"yref\":\"y\"},{\"font\":{\"color\":\"#000000\"},\"showarrow\":false,\"text\":\"1.0\",\"x\":\"thinness  1-19 years\",\"xref\":\"x\",\"y\":\"thinness  1-19 years\",\"yref\":\"y\"},{\"font\":{\"color\":\"#000000\"},\"showarrow\":false,\"text\":\"0.93\",\"x\":\"thinness 5-9 years\",\"xref\":\"x\",\"y\":\"thinness  1-19 years\",\"yref\":\"y\"},{\"font\":{\"color\":\"#FFFFFF\"},\"showarrow\":false,\"text\":\"-0.44\",\"x\":\"Income composition of resources\",\"xref\":\"x\",\"y\":\"thinness  1-19 years\",\"yref\":\"y\"},{\"font\":{\"color\":\"#FFFFFF\"},\"showarrow\":false,\"text\":\"-0.47\",\"x\":\"Schooling\",\"xref\":\"x\",\"y\":\"thinness  1-19 years\",\"yref\":\"y\"},{\"font\":{\"color\":\"#FFFFFF\"},\"showarrow\":false,\"text\":\"-0.05\",\"x\":\"Year\",\"xref\":\"x\",\"y\":\"thinness 5-9 years\",\"yref\":\"y\"},{\"font\":{\"color\":\"#FFFFFF\"},\"showarrow\":false,\"text\":\"-0.32\",\"x\":\"Status\",\"xref\":\"x\",\"y\":\"thinness 5-9 years\",\"yref\":\"y\"},{\"font\":{\"color\":\"#FFFFFF\"},\"showarrow\":false,\"text\":\"-0.45\",\"x\":\"Life expectancy\",\"xref\":\"x\",\"y\":\"thinness 5-9 years\",\"yref\":\"y\"},{\"font\":{\"color\":\"#000000\"},\"showarrow\":false,\"text\":\"0.28\",\"x\":\"Adult Mortality\",\"xref\":\"x\",\"y\":\"thinness 5-9 years\",\"yref\":\"y\"},{\"font\":{\"color\":\"#000000\"},\"showarrow\":false,\"text\":\"0.49\",\"x\":\"infant deaths\",\"xref\":\"x\",\"y\":\"thinness 5-9 years\",\"yref\":\"y\"},{\"font\":{\"color\":\"#FFFFFF\"},\"showarrow\":false,\"text\":\"-0.39\",\"x\":\"Alcohol\",\"xref\":\"x\",\"y\":\"thinness 5-9 years\",\"yref\":\"y\"},{\"font\":{\"color\":\"#FFFFFF\"},\"showarrow\":false,\"text\":\"-0.27\",\"x\":\"percentage expenditure\",\"xref\":\"x\",\"y\":\"thinness 5-9 years\",\"yref\":\"y\"},{\"font\":{\"color\":\"#FFFFFF\"},\"showarrow\":false,\"text\":\"-0.14\",\"x\":\"Hepatitis B\",\"xref\":\"x\",\"y\":\"thinness 5-9 years\",\"yref\":\"y\"},{\"font\":{\"color\":\"#000000\"},\"showarrow\":false,\"text\":\"0.22\",\"x\":\"Measles\",\"xref\":\"x\",\"y\":\"thinness 5-9 years\",\"yref\":\"y\"},{\"font\":{\"color\":\"#FFFFFF\"},\"showarrow\":false,\"text\":\"-0.57\",\"x\":\"BMI\",\"xref\":\"x\",\"y\":\"thinness 5-9 years\",\"yref\":\"y\"},{\"font\":{\"color\":\"#000000\"},\"showarrow\":false,\"text\":\"0.49\",\"x\":\"under-five deaths\",\"xref\":\"x\",\"y\":\"thinness 5-9 years\",\"yref\":\"y\"},{\"font\":{\"color\":\"#FFFFFF\"},\"showarrow\":false,\"text\":\"-0.21\",\"x\":\"Polio\",\"xref\":\"x\",\"y\":\"thinness 5-9 years\",\"yref\":\"y\"},{\"font\":{\"color\":\"#FFFFFF\"},\"showarrow\":false,\"text\":\"-0.25\",\"x\":\"Total expenditure\",\"xref\":\"x\",\"y\":\"thinness 5-9 years\",\"yref\":\"y\"},{\"font\":{\"color\":\"#FFFFFF\"},\"showarrow\":false,\"text\":\"-0.22\",\"x\":\"Diphtheria\",\"xref\":\"x\",\"y\":\"thinness 5-9 years\",\"yref\":\"y\"},{\"font\":{\"color\":\"#000000\"},\"showarrow\":false,\"text\":\"0.2\",\"x\":\"HIV/AIDS\",\"xref\":\"x\",\"y\":\"thinness 5-9 years\",\"yref\":\"y\"},{\"font\":{\"color\":\"#FFFFFF\"},\"showarrow\":false,\"text\":\"-0.29\",\"x\":\"GDP\",\"xref\":\"x\",\"y\":\"thinness 5-9 years\",\"yref\":\"y\"},{\"font\":{\"color\":\"#000000\"},\"showarrow\":false,\"text\":\"0.26\",\"x\":\"Population\",\"xref\":\"x\",\"y\":\"thinness 5-9 years\",\"yref\":\"y\"},{\"font\":{\"color\":\"#000000\"},\"showarrow\":false,\"text\":\"0.93\",\"x\":\"thinness  1-19 years\",\"xref\":\"x\",\"y\":\"thinness 5-9 years\",\"yref\":\"y\"},{\"font\":{\"color\":\"#000000\"},\"showarrow\":false,\"text\":\"1.0\",\"x\":\"thinness 5-9 years\",\"xref\":\"x\",\"y\":\"thinness 5-9 years\",\"yref\":\"y\"},{\"font\":{\"color\":\"#FFFFFF\"},\"showarrow\":false,\"text\":\"-0.42\",\"x\":\"Income composition of resources\",\"xref\":\"x\",\"y\":\"thinness 5-9 years\",\"yref\":\"y\"},{\"font\":{\"color\":\"#FFFFFF\"},\"showarrow\":false,\"text\":\"-0.46\",\"x\":\"Schooling\",\"xref\":\"x\",\"y\":\"thinness 5-9 years\",\"yref\":\"y\"},{\"font\":{\"color\":\"#000000\"},\"showarrow\":false,\"text\":\"0.24\",\"x\":\"Year\",\"xref\":\"x\",\"y\":\"Income composition of resources\",\"yref\":\"y\"},{\"font\":{\"color\":\"#000000\"},\"showarrow\":false,\"text\":\"0.47\",\"x\":\"Status\",\"xref\":\"x\",\"y\":\"Income composition of resources\",\"yref\":\"y\"},{\"font\":{\"color\":\"#000000\"},\"showarrow\":false,\"text\":\"0.74\",\"x\":\"Life expectancy\",\"xref\":\"x\",\"y\":\"Income composition of resources\",\"yref\":\"y\"},{\"font\":{\"color\":\"#FFFFFF\"},\"showarrow\":false,\"text\":\"-0.42\",\"x\":\"Adult Mortality\",\"xref\":\"x\",\"y\":\"Income composition of resources\",\"yref\":\"y\"},{\"font\":{\"color\":\"#FFFFFF\"},\"showarrow\":false,\"text\":\"-0.14\",\"x\":\"infant deaths\",\"xref\":\"x\",\"y\":\"Income composition of resources\",\"yref\":\"y\"},{\"font\":{\"color\":\"#000000\"},\"showarrow\":false,\"text\":\"0.53\",\"x\":\"Alcohol\",\"xref\":\"x\",\"y\":\"Income composition of resources\",\"yref\":\"y\"},{\"font\":{\"color\":\"#000000\"},\"showarrow\":false,\"text\":\"0.41\",\"x\":\"percentage expenditure\",\"xref\":\"x\",\"y\":\"Income composition of resources\",\"yref\":\"y\"},{\"font\":{\"color\":\"#000000\"},\"showarrow\":false,\"text\":\"0.2\",\"x\":\"Hepatitis B\",\"xref\":\"x\",\"y\":\"Income composition of resources\",\"yref\":\"y\"},{\"font\":{\"color\":\"#FFFFFF\"},\"showarrow\":false,\"text\":\"-0.14\",\"x\":\"Measles\",\"xref\":\"x\",\"y\":\"Income composition of resources\",\"yref\":\"y\"},{\"font\":{\"color\":\"#000000\"},\"showarrow\":false,\"text\":\"0.55\",\"x\":\"BMI\",\"xref\":\"x\",\"y\":\"Income composition of resources\",\"yref\":\"y\"},{\"font\":{\"color\":\"#FFFFFF\"},\"showarrow\":false,\"text\":\"-0.16\",\"x\":\"under-five deaths\",\"xref\":\"x\",\"y\":\"Income composition of resources\",\"yref\":\"y\"},{\"font\":{\"color\":\"#000000\"},\"showarrow\":false,\"text\":\"0.39\",\"x\":\"Polio\",\"xref\":\"x\",\"y\":\"Income composition of resources\",\"yref\":\"y\"},{\"font\":{\"color\":\"#000000\"},\"showarrow\":false,\"text\":\"0.2\",\"x\":\"Total expenditure\",\"xref\":\"x\",\"y\":\"Income composition of resources\",\"yref\":\"y\"},{\"font\":{\"color\":\"#000000\"},\"showarrow\":false,\"text\":\"0.43\",\"x\":\"Diphtheria\",\"xref\":\"x\",\"y\":\"Income composition of resources\",\"yref\":\"y\"},{\"font\":{\"color\":\"#FFFFFF\"},\"showarrow\":false,\"text\":\"-0.25\",\"x\":\"HIV/AIDS\",\"xref\":\"x\",\"y\":\"Income composition of resources\",\"yref\":\"y\"},{\"font\":{\"color\":\"#000000\"},\"showarrow\":false,\"text\":\"0.45\",\"x\":\"GDP\",\"xref\":\"x\",\"y\":\"Income composition of resources\",\"yref\":\"y\"},{\"font\":{\"color\":\"#FFFFFF\"},\"showarrow\":false,\"text\":\"0.0\",\"x\":\"Population\",\"xref\":\"x\",\"y\":\"Income composition of resources\",\"yref\":\"y\"},{\"font\":{\"color\":\"#FFFFFF\"},\"showarrow\":false,\"text\":\"-0.44\",\"x\":\"thinness  1-19 years\",\"xref\":\"x\",\"y\":\"Income composition of resources\",\"yref\":\"y\"},{\"font\":{\"color\":\"#FFFFFF\"},\"showarrow\":false,\"text\":\"-0.42\",\"x\":\"thinness 5-9 years\",\"xref\":\"x\",\"y\":\"Income composition of resources\",\"yref\":\"y\"},{\"font\":{\"color\":\"#000000\"},\"showarrow\":false,\"text\":\"1.0\",\"x\":\"Income composition of resources\",\"xref\":\"x\",\"y\":\"Income composition of resources\",\"yref\":\"y\"},{\"font\":{\"color\":\"#000000\"},\"showarrow\":false,\"text\":\"0.8\",\"x\":\"Schooling\",\"xref\":\"x\",\"y\":\"Income composition of resources\",\"yref\":\"y\"},{\"font\":{\"color\":\"#000000\"},\"showarrow\":false,\"text\":\"0.21\",\"x\":\"Year\",\"xref\":\"x\",\"y\":\"Schooling\",\"yref\":\"y\"},{\"font\":{\"color\":\"#000000\"},\"showarrow\":false,\"text\":\"0.51\",\"x\":\"Status\",\"xref\":\"x\",\"y\":\"Schooling\",\"yref\":\"y\"},{\"font\":{\"color\":\"#000000\"},\"showarrow\":false,\"text\":\"0.76\",\"x\":\"Life expectancy\",\"xref\":\"x\",\"y\":\"Schooling\",\"yref\":\"y\"},{\"font\":{\"color\":\"#FFFFFF\"},\"showarrow\":false,\"text\":\"-0.41\",\"x\":\"Adult Mortality\",\"xref\":\"x\",\"y\":\"Schooling\",\"yref\":\"y\"},{\"font\":{\"color\":\"#FFFFFF\"},\"showarrow\":false,\"text\":\"-0.2\",\"x\":\"infant deaths\",\"xref\":\"x\",\"y\":\"Schooling\",\"yref\":\"y\"},{\"font\":{\"color\":\"#000000\"},\"showarrow\":false,\"text\":\"0.59\",\"x\":\"Alcohol\",\"xref\":\"x\",\"y\":\"Schooling\",\"yref\":\"y\"},{\"font\":{\"color\":\"#000000\"},\"showarrow\":false,\"text\":\"0.43\",\"x\":\"percentage expenditure\",\"xref\":\"x\",\"y\":\"Schooling\",\"yref\":\"y\"},{\"font\":{\"color\":\"#000000\"},\"showarrow\":false,\"text\":\"0.24\",\"x\":\"Hepatitis B\",\"xref\":\"x\",\"y\":\"Schooling\",\"yref\":\"y\"},{\"font\":{\"color\":\"#FFFFFF\"},\"showarrow\":false,\"text\":\"-0.15\",\"x\":\"Measles\",\"xref\":\"x\",\"y\":\"Schooling\",\"yref\":\"y\"},{\"font\":{\"color\":\"#000000\"},\"showarrow\":false,\"text\":\"0.6\",\"x\":\"BMI\",\"xref\":\"x\",\"y\":\"Schooling\",\"yref\":\"y\"},{\"font\":{\"color\":\"#FFFFFF\"},\"showarrow\":false,\"text\":\"-0.22\",\"x\":\"under-five deaths\",\"xref\":\"x\",\"y\":\"Schooling\",\"yref\":\"y\"},{\"font\":{\"color\":\"#000000\"},\"showarrow\":false,\"text\":\"0.43\",\"x\":\"Polio\",\"xref\":\"x\",\"y\":\"Schooling\",\"yref\":\"y\"},{\"font\":{\"color\":\"#000000\"},\"showarrow\":false,\"text\":\"0.27\",\"x\":\"Total expenditure\",\"xref\":\"x\",\"y\":\"Schooling\",\"yref\":\"y\"},{\"font\":{\"color\":\"#000000\"},\"showarrow\":false,\"text\":\"0.45\",\"x\":\"Diphtheria\",\"xref\":\"x\",\"y\":\"Schooling\",\"yref\":\"y\"},{\"font\":{\"color\":\"#FFFFFF\"},\"showarrow\":false,\"text\":\"-0.22\",\"x\":\"HIV/AIDS\",\"xref\":\"x\",\"y\":\"Schooling\",\"yref\":\"y\"},{\"font\":{\"color\":\"#000000\"},\"showarrow\":false,\"text\":\"0.47\",\"x\":\"GDP\",\"xref\":\"x\",\"y\":\"Schooling\",\"yref\":\"y\"},{\"font\":{\"color\":\"#FFFFFF\"},\"showarrow\":false,\"text\":\"-0.03\",\"x\":\"Population\",\"xref\":\"x\",\"y\":\"Schooling\",\"yref\":\"y\"},{\"font\":{\"color\":\"#FFFFFF\"},\"showarrow\":false,\"text\":\"-0.47\",\"x\":\"thinness  1-19 years\",\"xref\":\"x\",\"y\":\"Schooling\",\"yref\":\"y\"},{\"font\":{\"color\":\"#FFFFFF\"},\"showarrow\":false,\"text\":\"-0.46\",\"x\":\"thinness 5-9 years\",\"xref\":\"x\",\"y\":\"Schooling\",\"yref\":\"y\"},{\"font\":{\"color\":\"#000000\"},\"showarrow\":false,\"text\":\"0.8\",\"x\":\"Income composition of resources\",\"xref\":\"x\",\"y\":\"Schooling\",\"yref\":\"y\"},{\"font\":{\"color\":\"#000000\"},\"showarrow\":false,\"text\":\"1.0\",\"x\":\"Schooling\",\"xref\":\"x\",\"y\":\"Schooling\",\"yref\":\"y\"}],\"xaxis\":{\"dtick\":1,\"gridcolor\":\"rgb(0, 0, 0)\",\"side\":\"top\",\"ticks\":\"\"},\"yaxis\":{\"dtick\":1,\"ticks\":\"\",\"ticksuffix\":\"  \"},\"template\":{\"data\":{\"histogram2dcontour\":[{\"type\":\"histogram2dcontour\",\"colorbar\":{\"outlinewidth\":0,\"ticks\":\"\"},\"colorscale\":[[0.0,\"#0d0887\"],[0.1111111111111111,\"#46039f\"],[0.2222222222222222,\"#7201a8\"],[0.3333333333333333,\"#9c179e\"],[0.4444444444444444,\"#bd3786\"],[0.5555555555555556,\"#d8576b\"],[0.6666666666666666,\"#ed7953\"],[0.7777777777777778,\"#fb9f3a\"],[0.8888888888888888,\"#fdca26\"],[1.0,\"#f0f921\"]]}],\"choropleth\":[{\"type\":\"choropleth\",\"colorbar\":{\"outlinewidth\":0,\"ticks\":\"\"}}],\"histogram2d\":[{\"type\":\"histogram2d\",\"colorbar\":{\"outlinewidth\":0,\"ticks\":\"\"},\"colorscale\":[[0.0,\"#0d0887\"],[0.1111111111111111,\"#46039f\"],[0.2222222222222222,\"#7201a8\"],[0.3333333333333333,\"#9c179e\"],[0.4444444444444444,\"#bd3786\"],[0.5555555555555556,\"#d8576b\"],[0.6666666666666666,\"#ed7953\"],[0.7777777777777778,\"#fb9f3a\"],[0.8888888888888888,\"#fdca26\"],[1.0,\"#f0f921\"]]}],\"heatmap\":[{\"type\":\"heatmap\",\"colorbar\":{\"outlinewidth\":0,\"ticks\":\"\"},\"colorscale\":[[0.0,\"#0d0887\"],[0.1111111111111111,\"#46039f\"],[0.2222222222222222,\"#7201a8\"],[0.3333333333333333,\"#9c179e\"],[0.4444444444444444,\"#bd3786\"],[0.5555555555555556,\"#d8576b\"],[0.6666666666666666,\"#ed7953\"],[0.7777777777777778,\"#fb9f3a\"],[0.8888888888888888,\"#fdca26\"],[1.0,\"#f0f921\"]]}],\"heatmapgl\":[{\"type\":\"heatmapgl\",\"colorbar\":{\"outlinewidth\":0,\"ticks\":\"\"},\"colorscale\":[[0.0,\"#0d0887\"],[0.1111111111111111,\"#46039f\"],[0.2222222222222222,\"#7201a8\"],[0.3333333333333333,\"#9c179e\"],[0.4444444444444444,\"#bd3786\"],[0.5555555555555556,\"#d8576b\"],[0.6666666666666666,\"#ed7953\"],[0.7777777777777778,\"#fb9f3a\"],[0.8888888888888888,\"#fdca26\"],[1.0,\"#f0f921\"]]}],\"contourcarpet\":[{\"type\":\"contourcarpet\",\"colorbar\":{\"outlinewidth\":0,\"ticks\":\"\"}}],\"contour\":[{\"type\":\"contour\",\"colorbar\":{\"outlinewidth\":0,\"ticks\":\"\"},\"colorscale\":[[0.0,\"#0d0887\"],[0.1111111111111111,\"#46039f\"],[0.2222222222222222,\"#7201a8\"],[0.3333333333333333,\"#9c179e\"],[0.4444444444444444,\"#bd3786\"],[0.5555555555555556,\"#d8576b\"],[0.6666666666666666,\"#ed7953\"],[0.7777777777777778,\"#fb9f3a\"],[0.8888888888888888,\"#fdca26\"],[1.0,\"#f0f921\"]]}],\"surface\":[{\"type\":\"surface\",\"colorbar\":{\"outlinewidth\":0,\"ticks\":\"\"},\"colorscale\":[[0.0,\"#0d0887\"],[0.1111111111111111,\"#46039f\"],[0.2222222222222222,\"#7201a8\"],[0.3333333333333333,\"#9c179e\"],[0.4444444444444444,\"#bd3786\"],[0.5555555555555556,\"#d8576b\"],[0.6666666666666666,\"#ed7953\"],[0.7777777777777778,\"#fb9f3a\"],[0.8888888888888888,\"#fdca26\"],[1.0,\"#f0f921\"]]}],\"mesh3d\":[{\"type\":\"mesh3d\",\"colorbar\":{\"outlinewidth\":0,\"ticks\":\"\"}}],\"scatter\":[{\"fillpattern\":{\"fillmode\":\"overlay\",\"size\":10,\"solidity\":0.2},\"type\":\"scatter\"}],\"parcoords\":[{\"type\":\"parcoords\",\"line\":{\"colorbar\":{\"outlinewidth\":0,\"ticks\":\"\"}}}],\"scatterpolargl\":[{\"type\":\"scatterpolargl\",\"marker\":{\"colorbar\":{\"outlinewidth\":0,\"ticks\":\"\"}}}],\"bar\":[{\"error_x\":{\"color\":\"#2a3f5f\"},\"error_y\":{\"color\":\"#2a3f5f\"},\"marker\":{\"line\":{\"color\":\"#E5ECF6\",\"width\":0.5},\"pattern\":{\"fillmode\":\"overlay\",\"size\":10,\"solidity\":0.2}},\"type\":\"bar\"}],\"scattergeo\":[{\"type\":\"scattergeo\",\"marker\":{\"colorbar\":{\"outlinewidth\":0,\"ticks\":\"\"}}}],\"scatterpolar\":[{\"type\":\"scatterpolar\",\"marker\":{\"colorbar\":{\"outlinewidth\":0,\"ticks\":\"\"}}}],\"histogram\":[{\"marker\":{\"pattern\":{\"fillmode\":\"overlay\",\"size\":10,\"solidity\":0.2}},\"type\":\"histogram\"}],\"scattergl\":[{\"type\":\"scattergl\",\"marker\":{\"colorbar\":{\"outlinewidth\":0,\"ticks\":\"\"}}}],\"scatter3d\":[{\"type\":\"scatter3d\",\"line\":{\"colorbar\":{\"outlinewidth\":0,\"ticks\":\"\"}},\"marker\":{\"colorbar\":{\"outlinewidth\":0,\"ticks\":\"\"}}}],\"scattermapbox\":[{\"type\":\"scattermapbox\",\"marker\":{\"colorbar\":{\"outlinewidth\":0,\"ticks\":\"\"}}}],\"scatterternary\":[{\"type\":\"scatterternary\",\"marker\":{\"colorbar\":{\"outlinewidth\":0,\"ticks\":\"\"}}}],\"scattercarpet\":[{\"type\":\"scattercarpet\",\"marker\":{\"colorbar\":{\"outlinewidth\":0,\"ticks\":\"\"}}}],\"carpet\":[{\"aaxis\":{\"endlinecolor\":\"#2a3f5f\",\"gridcolor\":\"white\",\"linecolor\":\"white\",\"minorgridcolor\":\"white\",\"startlinecolor\":\"#2a3f5f\"},\"baxis\":{\"endlinecolor\":\"#2a3f5f\",\"gridcolor\":\"white\",\"linecolor\":\"white\",\"minorgridcolor\":\"white\",\"startlinecolor\":\"#2a3f5f\"},\"type\":\"carpet\"}],\"table\":[{\"cells\":{\"fill\":{\"color\":\"#EBF0F8\"},\"line\":{\"color\":\"white\"}},\"header\":{\"fill\":{\"color\":\"#C8D4E3\"},\"line\":{\"color\":\"white\"}},\"type\":\"table\"}],\"barpolar\":[{\"marker\":{\"line\":{\"color\":\"#E5ECF6\",\"width\":0.5},\"pattern\":{\"fillmode\":\"overlay\",\"size\":10,\"solidity\":0.2}},\"type\":\"barpolar\"}],\"pie\":[{\"automargin\":true,\"type\":\"pie\"}]},\"layout\":{\"autotypenumbers\":\"strict\",\"colorway\":[\"#636efa\",\"#EF553B\",\"#00cc96\",\"#ab63fa\",\"#FFA15A\",\"#19d3f3\",\"#FF6692\",\"#B6E880\",\"#FF97FF\",\"#FECB52\"],\"font\":{\"color\":\"#2a3f5f\"},\"hovermode\":\"closest\",\"hoverlabel\":{\"align\":\"left\"},\"paper_bgcolor\":\"white\",\"plot_bgcolor\":\"#E5ECF6\",\"polar\":{\"bgcolor\":\"#E5ECF6\",\"angularaxis\":{\"gridcolor\":\"white\",\"linecolor\":\"white\",\"ticks\":\"\"},\"radialaxis\":{\"gridcolor\":\"white\",\"linecolor\":\"white\",\"ticks\":\"\"}},\"ternary\":{\"bgcolor\":\"#E5ECF6\",\"aaxis\":{\"gridcolor\":\"white\",\"linecolor\":\"white\",\"ticks\":\"\"},\"baxis\":{\"gridcolor\":\"white\",\"linecolor\":\"white\",\"ticks\":\"\"},\"caxis\":{\"gridcolor\":\"white\",\"linecolor\":\"white\",\"ticks\":\"\"}},\"coloraxis\":{\"colorbar\":{\"outlinewidth\":0,\"ticks\":\"\"}},\"colorscale\":{\"sequential\":[[0.0,\"#0d0887\"],[0.1111111111111111,\"#46039f\"],[0.2222222222222222,\"#7201a8\"],[0.3333333333333333,\"#9c179e\"],[0.4444444444444444,\"#bd3786\"],[0.5555555555555556,\"#d8576b\"],[0.6666666666666666,\"#ed7953\"],[0.7777777777777778,\"#fb9f3a\"],[0.8888888888888888,\"#fdca26\"],[1.0,\"#f0f921\"]],\"sequentialminus\":[[0.0,\"#0d0887\"],[0.1111111111111111,\"#46039f\"],[0.2222222222222222,\"#7201a8\"],[0.3333333333333333,\"#9c179e\"],[0.4444444444444444,\"#bd3786\"],[0.5555555555555556,\"#d8576b\"],[0.6666666666666666,\"#ed7953\"],[0.7777777777777778,\"#fb9f3a\"],[0.8888888888888888,\"#fdca26\"],[1.0,\"#f0f921\"]],\"diverging\":[[0,\"#8e0152\"],[0.1,\"#c51b7d\"],[0.2,\"#de77ae\"],[0.3,\"#f1b6da\"],[0.4,\"#fde0ef\"],[0.5,\"#f7f7f7\"],[0.6,\"#e6f5d0\"],[0.7,\"#b8e186\"],[0.8,\"#7fbc41\"],[0.9,\"#4d9221\"],[1,\"#276419\"]]},\"xaxis\":{\"gridcolor\":\"white\",\"linecolor\":\"white\",\"ticks\":\"\",\"title\":{\"standoff\":15},\"zerolinecolor\":\"white\",\"automargin\":true,\"zerolinewidth\":2},\"yaxis\":{\"gridcolor\":\"white\",\"linecolor\":\"white\",\"ticks\":\"\",\"title\":{\"standoff\":15},\"zerolinecolor\":\"white\",\"automargin\":true,\"zerolinewidth\":2},\"scene\":{\"xaxis\":{\"backgroundcolor\":\"#E5ECF6\",\"gridcolor\":\"white\",\"linecolor\":\"white\",\"showbackground\":true,\"ticks\":\"\",\"zerolinecolor\":\"white\",\"gridwidth\":2},\"yaxis\":{\"backgroundcolor\":\"#E5ECF6\",\"gridcolor\":\"white\",\"linecolor\":\"white\",\"showbackground\":true,\"ticks\":\"\",\"zerolinecolor\":\"white\",\"gridwidth\":2},\"zaxis\":{\"backgroundcolor\":\"#E5ECF6\",\"gridcolor\":\"white\",\"linecolor\":\"white\",\"showbackground\":true,\"ticks\":\"\",\"zerolinecolor\":\"white\",\"gridwidth\":2}},\"shapedefaults\":{\"line\":{\"color\":\"#2a3f5f\"}},\"annotationdefaults\":{\"arrowcolor\":\"#2a3f5f\",\"arrowhead\":0,\"arrowwidth\":1},\"geo\":{\"bgcolor\":\"white\",\"landcolor\":\"#E5ECF6\",\"subunitcolor\":\"white\",\"showland\":true,\"showlakes\":true,\"lakecolor\":\"white\"},\"title\":{\"x\":0.05},\"mapbox\":{\"style\":\"light\"}}}},                        {\"responsive\": true}                    ).then(function(){\n",
              "                            \n",
              "var gd = document.getElementById('1ab5ba47-e50e-4287-9add-6ddca19aa34f');\n",
              "var x = new MutationObserver(function (mutations, observer) {{\n",
              "        var display = window.getComputedStyle(gd).display;\n",
              "        if (!display || display === 'none') {{\n",
              "            console.log([gd, 'removed!']);\n",
              "            Plotly.purge(gd);\n",
              "            observer.disconnect();\n",
              "        }}\n",
              "}});\n",
              "\n",
              "// Listen for the removal of the full notebook cells\n",
              "var notebookContainer = gd.closest('#notebook-container');\n",
              "if (notebookContainer) {{\n",
              "    x.observe(notebookContainer, {childList: true});\n",
              "}}\n",
              "\n",
              "// Listen for the clearing of the current output cell\n",
              "var outputEl = gd.closest('.output');\n",
              "if (outputEl) {{\n",
              "    x.observe(outputEl, {childList: true});\n",
              "}}\n",
              "\n",
              "                        })                };                            </script>        </div>\n",
              "</body>\n",
              "</html>"
            ]
          },
          "metadata": {}
        }
      ]
    },
    {
      "cell_type": "code",
      "source": [
        "data=data.drop(['infant deaths','percentage expenditure'], axis=1)\n",
        "data.info()"
      ],
      "metadata": {
        "id": "XcrY631zt-Nl",
        "colab": {
          "base_uri": "https://localhost:8080/"
        },
        "outputId": "4ee221c0-45ce-4aec-a934-d0e2d270b2de"
      },
      "execution_count": null,
      "outputs": [
        {
          "output_type": "stream",
          "name": "stdout",
          "text": [
            "<class 'pandas.core.frame.DataFrame'>\n",
            "RangeIndex: 1974 entries, 0 to 1973\n",
            "Data columns (total 20 columns):\n",
            " #   Column                           Non-Null Count  Dtype  \n",
            "---  ------                           --------------  -----  \n",
            " 0   Country                          1974 non-null   object \n",
            " 1   Year                             1974 non-null   int64  \n",
            " 2   Status                           1974 non-null   int64  \n",
            " 3   Life expectancy                  1974 non-null   float64\n",
            " 4   Adult Mortality                  1974 non-null   int64  \n",
            " 5   Alcohol                          1974 non-null   float64\n",
            " 6   Hepatitis B                      1974 non-null   float64\n",
            " 7   Measles                          1974 non-null   int64  \n",
            " 8   BMI                              1974 non-null   float64\n",
            " 9   under-five deaths                1974 non-null   int64  \n",
            " 10  Polio                            1974 non-null   int64  \n",
            " 11  Total expenditure                1974 non-null   float64\n",
            " 12  Diphtheria                       1974 non-null   int64  \n",
            " 13  HIV/AIDS                         1974 non-null   float64\n",
            " 14  GDP                              1974 non-null   float64\n",
            " 15  Population                       1974 non-null   float64\n",
            " 16  thinness  1-19 years             1974 non-null   float64\n",
            " 17  thinness 5-9 years               1974 non-null   float64\n",
            " 18  Income composition of resources  1974 non-null   float64\n",
            " 19  Schooling                        1974 non-null   float64\n",
            "dtypes: float64(12), int64(7), object(1)\n",
            "memory usage: 308.6+ KB\n"
          ]
        }
      ]
    },
    {
      "cell_type": "code",
      "source": [
        "# Dividing dataset into label and feature\n",
        "X = data.drop(['Life expectancy'], axis = 1)\n",
        "Y = data['Life expectancy']\n",
        "print(X.shape)\n",
        "print(Y.shape)"
      ],
      "metadata": {
        "colab": {
          "base_uri": "https://localhost:8080/"
        },
        "id": "QDjrhqPHgSPN",
        "outputId": "93a4bad4-b33c-4cf4-caa5-2fbecdc2d0f8"
      },
      "execution_count": null,
      "outputs": [
        {
          "output_type": "stream",
          "name": "stdout",
          "text": [
            "(1974, 19)\n",
            "(1974,)\n"
          ]
        }
      ]
    },
    {
      "cell_type": "code",
      "source": [
        "#Target Encoding\n",
        "Target_Encoder = TargetEncoder(cols=['Country']).fit(X,Y)\n",
        "X = Target_Encoder.transform(X)\n",
        "print(X.info())\n",
        "X.head()"
      ],
      "metadata": {
        "id": "9JMukc2ggYoS",
        "colab": {
          "base_uri": "https://localhost:8080/",
          "height": 790
        },
        "outputId": "2639a1d1-d3a6-45ae-8dea-0cc06209d113"
      },
      "execution_count": null,
      "outputs": [
        {
          "output_type": "stream",
          "name": "stdout",
          "text": [
            "<class 'pandas.core.frame.DataFrame'>\n",
            "RangeIndex: 1974 entries, 0 to 1973\n",
            "Data columns (total 19 columns):\n",
            " #   Column                           Non-Null Count  Dtype  \n",
            "---  ------                           --------------  -----  \n",
            " 0   Country                          1974 non-null   float64\n",
            " 1   Year                             1974 non-null   int64  \n",
            " 2   Status                           1974 non-null   int64  \n",
            " 3   Adult Mortality                  1974 non-null   int64  \n",
            " 4   Alcohol                          1974 non-null   float64\n",
            " 5   Hepatitis B                      1974 non-null   float64\n",
            " 6   Measles                          1974 non-null   int64  \n",
            " 7   BMI                              1974 non-null   float64\n",
            " 8   under-five deaths                1974 non-null   int64  \n",
            " 9   Polio                            1974 non-null   int64  \n",
            " 10  Total expenditure                1974 non-null   float64\n",
            " 11  Diphtheria                       1974 non-null   int64  \n",
            " 12  HIV/AIDS                         1974 non-null   float64\n",
            " 13  GDP                              1974 non-null   float64\n",
            " 14  Population                       1974 non-null   float64\n",
            " 15  thinness  1-19 years             1974 non-null   float64\n",
            " 16  thinness 5-9 years               1974 non-null   float64\n",
            " 17  Income composition of resources  1974 non-null   float64\n",
            " 18  Schooling                        1974 non-null   float64\n",
            "dtypes: float64(12), int64(7)\n",
            "memory usage: 293.1 KB\n",
            "None\n"
          ]
        },
        {
          "output_type": "execute_result",
          "data": {
            "text/plain": [
              "     Country  Year  Status  Adult Mortality  Alcohol  Hepatitis B  Measles  \\\n",
              "0  64.047738  2015       0              263     0.01         65.0     1154   \n",
              "1  64.047738  2014       0              271     0.01         62.0      492   \n",
              "2  64.047738  2013       0              268     0.01         64.0      430   \n",
              "3  64.047738  2012       0              272     0.01         67.0     2787   \n",
              "4  64.047738  2011       0              275     0.01         68.0     3013   \n",
              "\n",
              "    BMI  under-five deaths  Polio  Total expenditure  Diphtheria  HIV/AIDS  \\\n",
              "0  19.1                 83      6               8.16          65       0.1   \n",
              "1  18.6                 86     58               8.18          62       0.1   \n",
              "2  18.1                 89     62               8.13          64       0.1   \n",
              "3  17.6                 93     67               8.52          67       0.1   \n",
              "4  17.2                 97     68               7.87          68       0.1   \n",
              "\n",
              "         GDP  Population  thinness  1-19 years  thinness 5-9 years  \\\n",
              "0  584.25920  33736494.0                  17.2                17.3   \n",
              "1  612.69650    327582.0                  17.5                17.5   \n",
              "2  631.74500  31731688.0                  17.7                17.7   \n",
              "3  669.95900   3696958.0                  17.9                18.0   \n",
              "4   63.53723   2978599.0                  18.2                18.2   \n",
              "\n",
              "   Income composition of resources  Schooling  \n",
              "0                            0.479       10.1  \n",
              "1                            0.476       10.0  \n",
              "2                            0.470        9.9  \n",
              "3                            0.463        9.8  \n",
              "4                            0.454        9.5  "
            ],
            "text/html": [
              "\n",
              "\n",
              "  <div id=\"df-a1106c27-09e3-44b4-af63-5e19ace49d3d\">\n",
              "    <div class=\"colab-df-container\">\n",
              "      <div>\n",
              "<style scoped>\n",
              "    .dataframe tbody tr th:only-of-type {\n",
              "        vertical-align: middle;\n",
              "    }\n",
              "\n",
              "    .dataframe tbody tr th {\n",
              "        vertical-align: top;\n",
              "    }\n",
              "\n",
              "    .dataframe thead th {\n",
              "        text-align: right;\n",
              "    }\n",
              "</style>\n",
              "<table border=\"1\" class=\"dataframe\">\n",
              "  <thead>\n",
              "    <tr style=\"text-align: right;\">\n",
              "      <th></th>\n",
              "      <th>Country</th>\n",
              "      <th>Year</th>\n",
              "      <th>Status</th>\n",
              "      <th>Adult Mortality</th>\n",
              "      <th>Alcohol</th>\n",
              "      <th>Hepatitis B</th>\n",
              "      <th>Measles</th>\n",
              "      <th>BMI</th>\n",
              "      <th>under-five deaths</th>\n",
              "      <th>Polio</th>\n",
              "      <th>Total expenditure</th>\n",
              "      <th>Diphtheria</th>\n",
              "      <th>HIV/AIDS</th>\n",
              "      <th>GDP</th>\n",
              "      <th>Population</th>\n",
              "      <th>thinness  1-19 years</th>\n",
              "      <th>thinness 5-9 years</th>\n",
              "      <th>Income composition of resources</th>\n",
              "      <th>Schooling</th>\n",
              "    </tr>\n",
              "  </thead>\n",
              "  <tbody>\n",
              "    <tr>\n",
              "      <th>0</th>\n",
              "      <td>64.047738</td>\n",
              "      <td>2015</td>\n",
              "      <td>0</td>\n",
              "      <td>263</td>\n",
              "      <td>0.01</td>\n",
              "      <td>65.0</td>\n",
              "      <td>1154</td>\n",
              "      <td>19.1</td>\n",
              "      <td>83</td>\n",
              "      <td>6</td>\n",
              "      <td>8.16</td>\n",
              "      <td>65</td>\n",
              "      <td>0.1</td>\n",
              "      <td>584.25920</td>\n",
              "      <td>33736494.0</td>\n",
              "      <td>17.2</td>\n",
              "      <td>17.3</td>\n",
              "      <td>0.479</td>\n",
              "      <td>10.1</td>\n",
              "    </tr>\n",
              "    <tr>\n",
              "      <th>1</th>\n",
              "      <td>64.047738</td>\n",
              "      <td>2014</td>\n",
              "      <td>0</td>\n",
              "      <td>271</td>\n",
              "      <td>0.01</td>\n",
              "      <td>62.0</td>\n",
              "      <td>492</td>\n",
              "      <td>18.6</td>\n",
              "      <td>86</td>\n",
              "      <td>58</td>\n",
              "      <td>8.18</td>\n",
              "      <td>62</td>\n",
              "      <td>0.1</td>\n",
              "      <td>612.69650</td>\n",
              "      <td>327582.0</td>\n",
              "      <td>17.5</td>\n",
              "      <td>17.5</td>\n",
              "      <td>0.476</td>\n",
              "      <td>10.0</td>\n",
              "    </tr>\n",
              "    <tr>\n",
              "      <th>2</th>\n",
              "      <td>64.047738</td>\n",
              "      <td>2013</td>\n",
              "      <td>0</td>\n",
              "      <td>268</td>\n",
              "      <td>0.01</td>\n",
              "      <td>64.0</td>\n",
              "      <td>430</td>\n",
              "      <td>18.1</td>\n",
              "      <td>89</td>\n",
              "      <td>62</td>\n",
              "      <td>8.13</td>\n",
              "      <td>64</td>\n",
              "      <td>0.1</td>\n",
              "      <td>631.74500</td>\n",
              "      <td>31731688.0</td>\n",
              "      <td>17.7</td>\n",
              "      <td>17.7</td>\n",
              "      <td>0.470</td>\n",
              "      <td>9.9</td>\n",
              "    </tr>\n",
              "    <tr>\n",
              "      <th>3</th>\n",
              "      <td>64.047738</td>\n",
              "      <td>2012</td>\n",
              "      <td>0</td>\n",
              "      <td>272</td>\n",
              "      <td>0.01</td>\n",
              "      <td>67.0</td>\n",
              "      <td>2787</td>\n",
              "      <td>17.6</td>\n",
              "      <td>93</td>\n",
              "      <td>67</td>\n",
              "      <td>8.52</td>\n",
              "      <td>67</td>\n",
              "      <td>0.1</td>\n",
              "      <td>669.95900</td>\n",
              "      <td>3696958.0</td>\n",
              "      <td>17.9</td>\n",
              "      <td>18.0</td>\n",
              "      <td>0.463</td>\n",
              "      <td>9.8</td>\n",
              "    </tr>\n",
              "    <tr>\n",
              "      <th>4</th>\n",
              "      <td>64.047738</td>\n",
              "      <td>2011</td>\n",
              "      <td>0</td>\n",
              "      <td>275</td>\n",
              "      <td>0.01</td>\n",
              "      <td>68.0</td>\n",
              "      <td>3013</td>\n",
              "      <td>17.2</td>\n",
              "      <td>97</td>\n",
              "      <td>68</td>\n",
              "      <td>7.87</td>\n",
              "      <td>68</td>\n",
              "      <td>0.1</td>\n",
              "      <td>63.53723</td>\n",
              "      <td>2978599.0</td>\n",
              "      <td>18.2</td>\n",
              "      <td>18.2</td>\n",
              "      <td>0.454</td>\n",
              "      <td>9.5</td>\n",
              "    </tr>\n",
              "  </tbody>\n",
              "</table>\n",
              "</div>\n",
              "      <button class=\"colab-df-convert\" onclick=\"convertToInteractive('df-a1106c27-09e3-44b4-af63-5e19ace49d3d')\"\n",
              "              title=\"Convert this dataframe to an interactive table.\"\n",
              "              style=\"display:none;\">\n",
              "\n",
              "  <svg xmlns=\"http://www.w3.org/2000/svg\" height=\"24px\"viewBox=\"0 0 24 24\"\n",
              "       width=\"24px\">\n",
              "    <path d=\"M0 0h24v24H0V0z\" fill=\"none\"/>\n",
              "    <path d=\"M18.56 5.44l.94 2.06.94-2.06 2.06-.94-2.06-.94-.94-2.06-.94 2.06-2.06.94zm-11 1L8.5 8.5l.94-2.06 2.06-.94-2.06-.94L8.5 2.5l-.94 2.06-2.06.94zm10 10l.94 2.06.94-2.06 2.06-.94-2.06-.94-.94-2.06-.94 2.06-2.06.94z\"/><path d=\"M17.41 7.96l-1.37-1.37c-.4-.4-.92-.59-1.43-.59-.52 0-1.04.2-1.43.59L10.3 9.45l-7.72 7.72c-.78.78-.78 2.05 0 2.83L4 21.41c.39.39.9.59 1.41.59.51 0 1.02-.2 1.41-.59l7.78-7.78 2.81-2.81c.8-.78.8-2.07 0-2.86zM5.41 20L4 18.59l7.72-7.72 1.47 1.35L5.41 20z\"/>\n",
              "  </svg>\n",
              "      </button>\n",
              "\n",
              "\n",
              "\n",
              "    <div id=\"df-b7f53a67-25bd-4f3a-a789-f5feac33f62a\">\n",
              "      <button class=\"colab-df-quickchart\" onclick=\"quickchart('df-b7f53a67-25bd-4f3a-a789-f5feac33f62a')\"\n",
              "              title=\"Suggest charts.\"\n",
              "              style=\"display:none;\">\n",
              "\n",
              "<svg xmlns=\"http://www.w3.org/2000/svg\" height=\"24px\"viewBox=\"0 0 24 24\"\n",
              "     width=\"24px\">\n",
              "    <g>\n",
              "        <path d=\"M19 3H5c-1.1 0-2 .9-2 2v14c0 1.1.9 2 2 2h14c1.1 0 2-.9 2-2V5c0-1.1-.9-2-2-2zM9 17H7v-7h2v7zm4 0h-2V7h2v10zm4 0h-2v-4h2v4z\"/>\n",
              "    </g>\n",
              "</svg>\n",
              "      </button>\n",
              "    </div>\n",
              "\n",
              "<style>\n",
              "  .colab-df-quickchart {\n",
              "    background-color: #E8F0FE;\n",
              "    border: none;\n",
              "    border-radius: 50%;\n",
              "    cursor: pointer;\n",
              "    display: none;\n",
              "    fill: #1967D2;\n",
              "    height: 32px;\n",
              "    padding: 0 0 0 0;\n",
              "    width: 32px;\n",
              "  }\n",
              "\n",
              "  .colab-df-quickchart:hover {\n",
              "    background-color: #E2EBFA;\n",
              "    box-shadow: 0px 1px 2px rgba(60, 64, 67, 0.3), 0px 1px 3px 1px rgba(60, 64, 67, 0.15);\n",
              "    fill: #174EA6;\n",
              "  }\n",
              "\n",
              "  [theme=dark] .colab-df-quickchart {\n",
              "    background-color: #3B4455;\n",
              "    fill: #D2E3FC;\n",
              "  }\n",
              "\n",
              "  [theme=dark] .colab-df-quickchart:hover {\n",
              "    background-color: #434B5C;\n",
              "    box-shadow: 0px 1px 3px 1px rgba(0, 0, 0, 0.15);\n",
              "    filter: drop-shadow(0px 1px 2px rgba(0, 0, 0, 0.3));\n",
              "    fill: #FFFFFF;\n",
              "  }\n",
              "</style>\n",
              "\n",
              "    <script>\n",
              "      async function quickchart(key) {\n",
              "        const containerElement = document.querySelector('#' + key);\n",
              "        const charts = await google.colab.kernel.invokeFunction(\n",
              "            'suggestCharts', [key], {});\n",
              "      }\n",
              "    </script>\n",
              "\n",
              "      <script>\n",
              "\n",
              "function displayQuickchartButton(domScope) {\n",
              "  let quickchartButtonEl =\n",
              "    domScope.querySelector('#df-b7f53a67-25bd-4f3a-a789-f5feac33f62a button.colab-df-quickchart');\n",
              "  quickchartButtonEl.style.display =\n",
              "    google.colab.kernel.accessAllowed ? 'block' : 'none';\n",
              "}\n",
              "\n",
              "        displayQuickchartButton(document);\n",
              "      </script>\n",
              "      <style>\n",
              "    .colab-df-container {\n",
              "      display:flex;\n",
              "      flex-wrap:wrap;\n",
              "      gap: 12px;\n",
              "    }\n",
              "\n",
              "    .colab-df-convert {\n",
              "      background-color: #E8F0FE;\n",
              "      border: none;\n",
              "      border-radius: 50%;\n",
              "      cursor: pointer;\n",
              "      display: none;\n",
              "      fill: #1967D2;\n",
              "      height: 32px;\n",
              "      padding: 0 0 0 0;\n",
              "      width: 32px;\n",
              "    }\n",
              "\n",
              "    .colab-df-convert:hover {\n",
              "      background-color: #E2EBFA;\n",
              "      box-shadow: 0px 1px 2px rgba(60, 64, 67, 0.3), 0px 1px 3px 1px rgba(60, 64, 67, 0.15);\n",
              "      fill: #174EA6;\n",
              "    }\n",
              "\n",
              "    [theme=dark] .colab-df-convert {\n",
              "      background-color: #3B4455;\n",
              "      fill: #D2E3FC;\n",
              "    }\n",
              "\n",
              "    [theme=dark] .colab-df-convert:hover {\n",
              "      background-color: #434B5C;\n",
              "      box-shadow: 0px 1px 3px 1px rgba(0, 0, 0, 0.15);\n",
              "      filter: drop-shadow(0px 1px 2px rgba(0, 0, 0, 0.3));\n",
              "      fill: #FFFFFF;\n",
              "    }\n",
              "  </style>\n",
              "\n",
              "      <script>\n",
              "        const buttonEl =\n",
              "          document.querySelector('#df-a1106c27-09e3-44b4-af63-5e19ace49d3d button.colab-df-convert');\n",
              "        buttonEl.style.display =\n",
              "          google.colab.kernel.accessAllowed ? 'block' : 'none';\n",
              "\n",
              "        async function convertToInteractive(key) {\n",
              "          const element = document.querySelector('#df-a1106c27-09e3-44b4-af63-5e19ace49d3d');\n",
              "          const dataTable =\n",
              "            await google.colab.kernel.invokeFunction('convertToInteractive',\n",
              "                                                     [key], {});\n",
              "          if (!dataTable) return;\n",
              "\n",
              "          const docLinkHtml = 'Like what you see? Visit the ' +\n",
              "            '<a target=\"_blank\" href=https://colab.research.google.com/notebooks/data_table.ipynb>data table notebook</a>'\n",
              "            + ' to learn more about interactive tables.';\n",
              "          element.innerHTML = '';\n",
              "          dataTable['output_type'] = 'display_data';\n",
              "          await google.colab.output.renderOutput(dataTable, element);\n",
              "          const docLink = document.createElement('div');\n",
              "          docLink.innerHTML = docLinkHtml;\n",
              "          element.appendChild(docLink);\n",
              "        }\n",
              "      </script>\n",
              "    </div>\n",
              "  </div>\n"
            ]
          },
          "metadata": {},
          "execution_count": 15
        }
      ]
    },
    {
      "cell_type": "code",
      "source": [
        "# Normalizing\n",
        "X_= StandardScaler().fit_transform(X)"
      ],
      "metadata": {
        "id": "yt1zqdERgls7"
      },
      "execution_count": null,
      "outputs": []
    },
    {
      "cell_type": "code",
      "source": [
        "#Random Forest Regression\n",
        "cv=5\n",
        "RF_Regressor1 = RandomForestRegressor(criterion='squared_error', max_features='sqrt', random_state=1)\n",
        "no_Trees = {'n_estimators': [300,350,400,450,500,550]}\n",
        "grid_search1 = GridSearchCV(estimator=RF_Regressor1, param_grid=no_Trees, scoring='r2')\n",
        "grid_search1.fit(X_, Y)\n",
        "\n",
        "best_parameters = grid_search1.best_params_\n",
        "print(\"Best parameters: \", best_parameters)\n",
        "best_result = grid_search1.best_score_\n",
        "print(\"best_score: \", best_result)\n",
        "r,c=X_.shape\n",
        "# modified_r2 = 1-(1-best_result)*((cv-1)/cv)*r-1)/(4/5*r-c-1)\n",
        "# print(\"modified_r2: \", modified_r2)\n",
        "Important_feature = Series(grid_search1.best_estimator_.feature_importances_, index=list(X)).sort_values(ascending=False) # Getting feature importances list for the best model\n",
        "print(Important_feature)"
      ],
      "metadata": {
        "id": "sLoGDVehmbaj",
        "colab": {
          "base_uri": "https://localhost:8080/"
        },
        "outputId": "1b58bf68-2ee1-489f-83fe-cb92e6d371ca"
      },
      "execution_count": null,
      "outputs": [
        {
          "output_type": "stream",
          "name": "stdout",
          "text": [
            "Best parameters:  {'n_estimators': 550}\n",
            "best_score:  0.9470122093538011\n",
            "Country                            0.281753\n",
            "HIV/AIDS                           0.147951\n",
            "Income composition of resources    0.142668\n",
            "Adult Mortality                    0.101946\n",
            "Schooling                          0.089397\n",
            "BMI                                0.057245\n",
            "thinness  1-19 years               0.029920\n",
            "thinness 5-9 years                 0.029443\n",
            "under-five deaths                  0.024894\n",
            "GDP                                0.018323\n",
            "Diphtheria                         0.014870\n",
            "Polio                              0.014821\n",
            "Alcohol                            0.011452\n",
            "Year                               0.010130\n",
            "Total expenditure                  0.007687\n",
            "Hepatitis B                        0.005736\n",
            "Measles                            0.004429\n",
            "Status                             0.003717\n",
            "Population                         0.003618\n",
            "dtype: float64\n"
          ]
        }
      ]
    },
    {
      "cell_type": "code",
      "execution_count": null,
      "metadata": {
        "id": "hyr6h00St60L"
      },
      "outputs": [],
      "source": [
        "#Support Vector Regression\n",
        "from sklearn.svm import SVR\n",
        "SVRegressor = SVR()\n",
        "Hparameters = {'kernel': ['linear', 'poly', 'rbf', 'sigmoid'], 'C': [100,1000,10000]}\n",
        "grid_search1 = GridSearchCV(estimator=SVRegressor, param_grid=Hparameters, scoring='r2', cv=5)\n",
        "grid_search1.fit(X_, Y)\n",
        "\n",
        "best_parameters = grid_search1.best_params_\n",
        "print(\"Best parameters: \", best_parameters)\n",
        "best_result = grid_search1.best_score_\n",
        "print(\"Best result: \", best_result)"
      ]
    }
  ]
}