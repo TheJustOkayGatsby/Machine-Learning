{
  "nbformat": 4,
  "nbformat_minor": 0,
  "metadata": {
    "colab": {
      "provenance": []
    },
    "kernelspec": {
      "name": "python3",
      "display_name": "Python 3"
    },
    "language_info": {
      "name": "python"
    }
  },
  "cells": [
    {
      "cell_type": "code",
      "execution_count": null,
      "metadata": {
        "id": "vQJOSudvr4MK"
      },
      "outputs": [],
      "source": [
        "from pandas import read_csv, get_dummies, Series,DataFrame\n",
        "from sklearn.preprocessing import StandardScaler\n",
        "from sklearn.model_selection import train_test_split\n",
        "from imblearn.over_sampling import SMOTE\n",
        "# Data Preparation\n",
        "data1=read_csv('/content/exams (3).csv')#reading\n",
        "# data1.head()\n",
        "# data1.info()\n",
        "mean=data1['math score'].mean() # finding value to replace\n",
        "data1['math score']=data1['math score'].fillna(mean) #replace null with mean value\n",
        "\n",
        "data1['gender'] = data1['gender'].map({'male':1, 'female':0}) #encoding\n",
        "data1['lunch'] = data1['lunch'].map({'standard':1, 'free/reduced':0}) #encoding\n",
        "data1['test preparation course'] = data1['test preparation course'].map({'completed':1, 'none':0}) #encoding\n",
        "# data1.info()\n",
        "data2 = get_dummies(data1, columns = ['race/ethnicity','parental level of education']) #encoding\n",
        "# data2.info()\n",
        "X = data2.drop('test preparation course', axis = 1) # Features\n",
        "Y = data2['test preparation course'] # Labels\n",
        "X_scaled = StandardScaler().fit_transform(X) #scaling\n",
        "# X_scaled\n",
        "DataFrame(X_scaled)\n",
        "X_train, X_test, Y_train, Y_test = train_test_split( X_scaled, Y, test_size = 0.25, random_state = 100)\n",
        "X_train,Y_train = SMOTE(random_state = 101).fit_resample(X_train,Y_train)"
      ]
    },
    {
      "cell_type": "code",
      "source": [
        "data1['gender'].unique()\n",
        "data1['race/ethnicity'].unique()\n",
        "data1['parental level of education'].unique()\n",
        "data1['lunch'].unique()\n",
        "data1['test preparation course'].unique()"
      ],
      "metadata": {
        "colab": {
          "base_uri": "https://localhost:8080/"
        },
        "id": "PpKmjmbaALeG",
        "outputId": "128b5e38-193e-4421-f82c-4180a3af85f9"
      },
      "execution_count": null,
      "outputs": [
        {
          "output_type": "execute_result",
          "data": {
            "text/plain": [
              "array(['completed', 'none'], dtype=object)"
            ]
          },
          "metadata": {},
          "execution_count": 45
        }
      ]
    },
    {
      "cell_type": "code",
      "source": [
        "# Decision Tree Classifier (method#1)\n",
        "from sklearn import tree\n",
        "#from sklearn.tree import DecisionTreeClassifier as dt\n",
        "DT_classifier1 = tree.DecisionTreeClassifier(criterion = 'entropy', max_depth = 15)# classifier building\n",
        "m=DT_classifier1.fit(X_train, Y_train) # training\n",
        "Y_pred1 = m.predict(X_test) # testing\n",
        "# Important_features = Series(DT_classifier1.feature_importances_, index=list(X)).sort_values(ascending=False) # what are the important features?\n",
        "# print(Important_features)"
      ],
      "metadata": {
        "id": "cqpoUv_uv-mS"
      },
      "execution_count": null,
      "outputs": []
    },
    {
      "cell_type": "code",
      "source": [
        "# Random Forest Classifier (method 1)\n",
        "#from sklearn.ensemble import RandomForestClassifier as rf\n",
        "from sklearn import ensemble\n",
        "RF_classifier1 = ensemble.RandomForestClassifier(n_estimators=30, criterion='entropy', max_features='auto', random_state=1)  # building model\n",
        "RF_classifier1.fit(X_train,Y_train)#training\n",
        "Y_pred2 = RF_classifier1.predict(X_test) # testing\n",
        "Important_features = Series(RF_classifier1.feature_importances_, index=list(X)).sort_values(ascending=False)\n",
        "print(Important_features)"
      ],
      "metadata": {
        "id": "9i-iebzMw6Bk"
      },
      "execution_count": null,
      "outputs": []
    },
    {
      "cell_type": "code",
      "source": [
        "# Support Vector Machine (SVM) Classifier (method 1)\n",
        "from sklearn import svm\n",
        "#import sklearn as sk\n",
        "SVM_classifier1 = svm.SVC(kernel='linear', random_state=0, )  # building classifier\n",
        "SVM_classifier1.fit(X_train, Y_train) # training\n",
        "Y_pred3= SVM_classifier1.predict(X_test)  #testing"
      ],
      "metadata": {
        "id": "fNZppFMex3K2"
      },
      "execution_count": null,
      "outputs": []
    },
    {
      "cell_type": "code",
      "source": [
        "# Acuracy and confusion matrix\n",
        "from sklearn import metrics\n",
        "Accuracy=metrics.accuracy_score(Y_test, Y_pred1) # calculating accuaracy\n",
        "print(\"Accuracy: \", Accuracy) # Is this a good metric??\n",
        "con_matrix = metrics.confusion_matrix(Y_test, Y_pred1)\n",
        "print (con_matrix)\n",
        "recall = metrics.recall_score(Y_test, Y_pred1)\n",
        "print (recall)\n",
        "percision=metrics.precision_score(Y_test, Y_pred1)\n",
        "print(percision)"
      ],
      "metadata": {
        "id": "QXF2NI13yCnD",
        "colab": {
          "base_uri": "https://localhost:8080/"
        },
        "outputId": "5a430695-49d4-49f2-e82d-2a1ac128ad08"
      },
      "execution_count": null,
      "outputs": [
        {
          "output_type": "stream",
          "name": "stdout",
          "text": [
            "Accuracy:  0.636\n",
            "[[111  59]\n",
            " [ 32  48]]\n",
            "0.6\n",
            "0.4485981308411215\n"
          ]
        }
      ]
    },
    {
      "cell_type": "code",
      "source": [
        "#using Grid Search for decision tree Classifier(method#3)\n",
        "from imblearn.pipeline import Pipeline\n",
        "from sklearn.model_selection import GridSearchCV\n",
        "#DT_classifier2 = tree.DecisionTreeClassifier(criterion = 'entropy') # building classfier\n",
        "DT_classifier2 = Pipeline([('balancing', SMOTE(random_state = 101)),('classification', tree.DecisionTreeClassifier(criterion = 'entropy') ) ]) # bulilding classifier\n",
        "depth = {'classification__max_depth': [2,3,4,5,10,15,20,25,30,35]}\n",
        "grid_search1 = GridSearchCV(estimator=DT_classifier2, param_grid=depth, scoring='recall', cv=4)\n",
        "grid_search1.fit(X_scaled, Y) # training & testing\n",
        "\n",
        "best_depth = grid_search1.best_params_\n",
        "print(best_depth)\n",
        "best_result = grid_search1.best_score_\n",
        "print(best_result)"
      ],
      "metadata": {
        "id": "Te2iVdgKyY36",
        "colab": {
          "base_uri": "https://localhost:8080/"
        },
        "outputId": "ee19b94a-7783-4df8-be17-e85866b294ff"
      },
      "execution_count": null,
      "outputs": [
        {
          "output_type": "stream",
          "name": "stdout",
          "text": [
            "{'classification__max_depth': 2}\n",
            "0.7317484222604705\n"
          ]
        }
      ]
    },
    {
      "cell_type": "code",
      "source": [
        "#DT_classifier2.get_params().keys()"
      ],
      "metadata": {
        "id": "z5uBwyuZ58q6"
      },
      "execution_count": null,
      "outputs": []
    },
    {
      "cell_type": "code",
      "source": [],
      "metadata": {
        "id": "cFH6ppZrZvII"
      },
      "execution_count": null,
      "outputs": []
    },
    {
      "cell_type": "code",
      "source": [
        "# using Grid Search for Random Forest Classifier (method 3)\n",
        "#RF_classifier2 = ensemble.RandomForestClassifier(criterion='entropy', max_features='auto', random_state=1) # building model\n",
        "RF_classifier2 = Pipeline([('balancing', SMOTE(random_state = 101)),('classification', ensemble.RandomForestClassifier(criterion='entropy', max_features='auto', random_state=1))]) # building classifier\n",
        "no_trees = {'classification__n_estimators': [200, 250, 300, 350, 400, 450]}\n",
        "grid_search2 = GridSearchCV(estimator=RF_classifier2, param_grid=no_trees, scoring='recall', cv=5)\n",
        "grid_search2.fit(X_scaled, Y)#training and testing\n",
        "\n",
        "best_no_trees = grid_search2.best_params_\n",
        "print(best_no_trees)\n",
        "best_result = grid_search2.best_score_\n",
        "print(best_result)"
      ],
      "metadata": {
        "id": "g5Fgk65RzUZF",
        "colab": {
          "base_uri": "https://localhost:8080/"
        },
        "outputId": "d8430113-f339-4f64-d751-68527fe96fed"
      },
      "execution_count": null,
      "outputs": [
        {
          "output_type": "stream",
          "name": "stderr",
          "text": [
            "/usr/local/lib/python3.10/dist-packages/sklearn/ensemble/_forest.py:424: FutureWarning: `max_features='auto'` has been deprecated in 1.1 and will be removed in 1.3. To keep the past behaviour, explicitly set `max_features='sqrt'` or remove this parameter as it is also the default value for RandomForestClassifiers and ExtraTreesClassifiers.\n",
            "  warn(\n",
            "/usr/local/lib/python3.10/dist-packages/sklearn/ensemble/_forest.py:424: FutureWarning: `max_features='auto'` has been deprecated in 1.1 and will be removed in 1.3. To keep the past behaviour, explicitly set `max_features='sqrt'` or remove this parameter as it is also the default value for RandomForestClassifiers and ExtraTreesClassifiers.\n",
            "  warn(\n",
            "/usr/local/lib/python3.10/dist-packages/sklearn/ensemble/_forest.py:424: FutureWarning: `max_features='auto'` has been deprecated in 1.1 and will be removed in 1.3. To keep the past behaviour, explicitly set `max_features='sqrt'` or remove this parameter as it is also the default value for RandomForestClassifiers and ExtraTreesClassifiers.\n",
            "  warn(\n",
            "/usr/local/lib/python3.10/dist-packages/sklearn/ensemble/_forest.py:424: FutureWarning: `max_features='auto'` has been deprecated in 1.1 and will be removed in 1.3. To keep the past behaviour, explicitly set `max_features='sqrt'` or remove this parameter as it is also the default value for RandomForestClassifiers and ExtraTreesClassifiers.\n",
            "  warn(\n",
            "/usr/local/lib/python3.10/dist-packages/sklearn/ensemble/_forest.py:424: FutureWarning: `max_features='auto'` has been deprecated in 1.1 and will be removed in 1.3. To keep the past behaviour, explicitly set `max_features='sqrt'` or remove this parameter as it is also the default value for RandomForestClassifiers and ExtraTreesClassifiers.\n",
            "  warn(\n",
            "/usr/local/lib/python3.10/dist-packages/sklearn/ensemble/_forest.py:424: FutureWarning: `max_features='auto'` has been deprecated in 1.1 and will be removed in 1.3. To keep the past behaviour, explicitly set `max_features='sqrt'` or remove this parameter as it is also the default value for RandomForestClassifiers and ExtraTreesClassifiers.\n",
            "  warn(\n",
            "/usr/local/lib/python3.10/dist-packages/sklearn/ensemble/_forest.py:424: FutureWarning: `max_features='auto'` has been deprecated in 1.1 and will be removed in 1.3. To keep the past behaviour, explicitly set `max_features='sqrt'` or remove this parameter as it is also the default value for RandomForestClassifiers and ExtraTreesClassifiers.\n",
            "  warn(\n",
            "/usr/local/lib/python3.10/dist-packages/sklearn/ensemble/_forest.py:424: FutureWarning: `max_features='auto'` has been deprecated in 1.1 and will be removed in 1.3. To keep the past behaviour, explicitly set `max_features='sqrt'` or remove this parameter as it is also the default value for RandomForestClassifiers and ExtraTreesClassifiers.\n",
            "  warn(\n",
            "/usr/local/lib/python3.10/dist-packages/sklearn/ensemble/_forest.py:424: FutureWarning: `max_features='auto'` has been deprecated in 1.1 and will be removed in 1.3. To keep the past behaviour, explicitly set `max_features='sqrt'` or remove this parameter as it is also the default value for RandomForestClassifiers and ExtraTreesClassifiers.\n",
            "  warn(\n",
            "/usr/local/lib/python3.10/dist-packages/sklearn/ensemble/_forest.py:424: FutureWarning: `max_features='auto'` has been deprecated in 1.1 and will be removed in 1.3. To keep the past behaviour, explicitly set `max_features='sqrt'` or remove this parameter as it is also the default value for RandomForestClassifiers and ExtraTreesClassifiers.\n",
            "  warn(\n",
            "/usr/local/lib/python3.10/dist-packages/sklearn/ensemble/_forest.py:424: FutureWarning: `max_features='auto'` has been deprecated in 1.1 and will be removed in 1.3. To keep the past behaviour, explicitly set `max_features='sqrt'` or remove this parameter as it is also the default value for RandomForestClassifiers and ExtraTreesClassifiers.\n",
            "  warn(\n",
            "/usr/local/lib/python3.10/dist-packages/sklearn/ensemble/_forest.py:424: FutureWarning: `max_features='auto'` has been deprecated in 1.1 and will be removed in 1.3. To keep the past behaviour, explicitly set `max_features='sqrt'` or remove this parameter as it is also the default value for RandomForestClassifiers and ExtraTreesClassifiers.\n",
            "  warn(\n",
            "/usr/local/lib/python3.10/dist-packages/sklearn/ensemble/_forest.py:424: FutureWarning: `max_features='auto'` has been deprecated in 1.1 and will be removed in 1.3. To keep the past behaviour, explicitly set `max_features='sqrt'` or remove this parameter as it is also the default value for RandomForestClassifiers and ExtraTreesClassifiers.\n",
            "  warn(\n",
            "/usr/local/lib/python3.10/dist-packages/sklearn/ensemble/_forest.py:424: FutureWarning: `max_features='auto'` has been deprecated in 1.1 and will be removed in 1.3. To keep the past behaviour, explicitly set `max_features='sqrt'` or remove this parameter as it is also the default value for RandomForestClassifiers and ExtraTreesClassifiers.\n",
            "  warn(\n",
            "/usr/local/lib/python3.10/dist-packages/sklearn/ensemble/_forest.py:424: FutureWarning: `max_features='auto'` has been deprecated in 1.1 and will be removed in 1.3. To keep the past behaviour, explicitly set `max_features='sqrt'` or remove this parameter as it is also the default value for RandomForestClassifiers and ExtraTreesClassifiers.\n",
            "  warn(\n",
            "/usr/local/lib/python3.10/dist-packages/sklearn/ensemble/_forest.py:424: FutureWarning: `max_features='auto'` has been deprecated in 1.1 and will be removed in 1.3. To keep the past behaviour, explicitly set `max_features='sqrt'` or remove this parameter as it is also the default value for RandomForestClassifiers and ExtraTreesClassifiers.\n",
            "  warn(\n",
            "/usr/local/lib/python3.10/dist-packages/sklearn/ensemble/_forest.py:424: FutureWarning: `max_features='auto'` has been deprecated in 1.1 and will be removed in 1.3. To keep the past behaviour, explicitly set `max_features='sqrt'` or remove this parameter as it is also the default value for RandomForestClassifiers and ExtraTreesClassifiers.\n",
            "  warn(\n",
            "/usr/local/lib/python3.10/dist-packages/sklearn/ensemble/_forest.py:424: FutureWarning: `max_features='auto'` has been deprecated in 1.1 and will be removed in 1.3. To keep the past behaviour, explicitly set `max_features='sqrt'` or remove this parameter as it is also the default value for RandomForestClassifiers and ExtraTreesClassifiers.\n",
            "  warn(\n",
            "/usr/local/lib/python3.10/dist-packages/sklearn/ensemble/_forest.py:424: FutureWarning: `max_features='auto'` has been deprecated in 1.1 and will be removed in 1.3. To keep the past behaviour, explicitly set `max_features='sqrt'` or remove this parameter as it is also the default value for RandomForestClassifiers and ExtraTreesClassifiers.\n",
            "  warn(\n",
            "/usr/local/lib/python3.10/dist-packages/sklearn/ensemble/_forest.py:424: FutureWarning: `max_features='auto'` has been deprecated in 1.1 and will be removed in 1.3. To keep the past behaviour, explicitly set `max_features='sqrt'` or remove this parameter as it is also the default value for RandomForestClassifiers and ExtraTreesClassifiers.\n",
            "  warn(\n",
            "/usr/local/lib/python3.10/dist-packages/sklearn/ensemble/_forest.py:424: FutureWarning: `max_features='auto'` has been deprecated in 1.1 and will be removed in 1.3. To keep the past behaviour, explicitly set `max_features='sqrt'` or remove this parameter as it is also the default value for RandomForestClassifiers and ExtraTreesClassifiers.\n",
            "  warn(\n",
            "/usr/local/lib/python3.10/dist-packages/sklearn/ensemble/_forest.py:424: FutureWarning: `max_features='auto'` has been deprecated in 1.1 and will be removed in 1.3. To keep the past behaviour, explicitly set `max_features='sqrt'` or remove this parameter as it is also the default value for RandomForestClassifiers and ExtraTreesClassifiers.\n",
            "  warn(\n",
            "/usr/local/lib/python3.10/dist-packages/sklearn/ensemble/_forest.py:424: FutureWarning: `max_features='auto'` has been deprecated in 1.1 and will be removed in 1.3. To keep the past behaviour, explicitly set `max_features='sqrt'` or remove this parameter as it is also the default value for RandomForestClassifiers and ExtraTreesClassifiers.\n",
            "  warn(\n",
            "/usr/local/lib/python3.10/dist-packages/sklearn/ensemble/_forest.py:424: FutureWarning: `max_features='auto'` has been deprecated in 1.1 and will be removed in 1.3. To keep the past behaviour, explicitly set `max_features='sqrt'` or remove this parameter as it is also the default value for RandomForestClassifiers and ExtraTreesClassifiers.\n",
            "  warn(\n",
            "/usr/local/lib/python3.10/dist-packages/sklearn/ensemble/_forest.py:424: FutureWarning: `max_features='auto'` has been deprecated in 1.1 and will be removed in 1.3. To keep the past behaviour, explicitly set `max_features='sqrt'` or remove this parameter as it is also the default value for RandomForestClassifiers and ExtraTreesClassifiers.\n",
            "  warn(\n",
            "/usr/local/lib/python3.10/dist-packages/sklearn/ensemble/_forest.py:424: FutureWarning: `max_features='auto'` has been deprecated in 1.1 and will be removed in 1.3. To keep the past behaviour, explicitly set `max_features='sqrt'` or remove this parameter as it is also the default value for RandomForestClassifiers and ExtraTreesClassifiers.\n",
            "  warn(\n",
            "/usr/local/lib/python3.10/dist-packages/sklearn/ensemble/_forest.py:424: FutureWarning: `max_features='auto'` has been deprecated in 1.1 and will be removed in 1.3. To keep the past behaviour, explicitly set `max_features='sqrt'` or remove this parameter as it is also the default value for RandomForestClassifiers and ExtraTreesClassifiers.\n",
            "  warn(\n",
            "/usr/local/lib/python3.10/dist-packages/sklearn/ensemble/_forest.py:424: FutureWarning: `max_features='auto'` has been deprecated in 1.1 and will be removed in 1.3. To keep the past behaviour, explicitly set `max_features='sqrt'` or remove this parameter as it is also the default value for RandomForestClassifiers and ExtraTreesClassifiers.\n",
            "  warn(\n",
            "/usr/local/lib/python3.10/dist-packages/sklearn/ensemble/_forest.py:424: FutureWarning: `max_features='auto'` has been deprecated in 1.1 and will be removed in 1.3. To keep the past behaviour, explicitly set `max_features='sqrt'` or remove this parameter as it is also the default value for RandomForestClassifiers and ExtraTreesClassifiers.\n",
            "  warn(\n",
            "/usr/local/lib/python3.10/dist-packages/sklearn/ensemble/_forest.py:424: FutureWarning: `max_features='auto'` has been deprecated in 1.1 and will be removed in 1.3. To keep the past behaviour, explicitly set `max_features='sqrt'` or remove this parameter as it is also the default value for RandomForestClassifiers and ExtraTreesClassifiers.\n",
            "  warn(\n",
            "/usr/local/lib/python3.10/dist-packages/sklearn/ensemble/_forest.py:424: FutureWarning: `max_features='auto'` has been deprecated in 1.1 and will be removed in 1.3. To keep the past behaviour, explicitly set `max_features='sqrt'` or remove this parameter as it is also the default value for RandomForestClassifiers and ExtraTreesClassifiers.\n",
            "  warn(\n"
          ]
        },
        {
          "output_type": "stream",
          "name": "stdout",
          "text": [
            "{'classification__n_estimators': 200}\n",
            "0.5253731343283582\n"
          ]
        }
      ]
    },
    {
      "cell_type": "code",
      "source": [
        "#RF_classifier2.get_params().keys()"
      ],
      "metadata": {
        "id": "JM5XSt2w3LDi"
      },
      "execution_count": null,
      "outputs": []
    },
    {
      "cell_type": "code",
      "source": [
        "#  Support Vector Classifier (method#3)\n",
        "from imblearn.pipeline import Pipeline\n",
        "from sklearn.model_selection import GridSearchCV\n",
        "SVM_classifier2 = Pipeline([('balancing', SMOTE(random_state = 101)),('classification', svm.SVC(random_state=10) ) ]) # bulilding classifier\n",
        "kernels_c = {'classification__kernel': ['linear','poly','rbf','sigmoid'], 'classification__C': [.001,.01,.1,1,10,100]}\n",
        "grid_search3 = GridSearchCV(estimator=SVM_classifier2, param_grid=kernels_c, scoring='recall', cv=5)\n",
        "grid_search3.fit(X_scaled, Y)#training and testing\n",
        "\n",
        "best_parameters = grid_search3.best_params_\n",
        "print(best_parameters)\n",
        "best_result = grid_search3.best_score_\n",
        "print(best_result)"
      ],
      "metadata": {
        "id": "hgcJI6KT01sO",
        "colab": {
          "base_uri": "https://localhost:8080/"
        },
        "outputId": "3582fead-cbeb-4d57-c7d3-2b8ba27ffc0d"
      },
      "execution_count": null,
      "outputs": [
        {
          "output_type": "stream",
          "name": "stdout",
          "text": [
            "{'classification__C': 0.001, 'classification__kernel': 'poly'}\n",
            "0.9402985074626866\n"
          ]
        }
      ]
    }
  ]
}