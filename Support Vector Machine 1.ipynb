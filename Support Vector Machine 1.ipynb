{
  "nbformat": 4,
  "nbformat_minor": 0,
  "metadata": {
    "colab": {
      "provenance": []
    },
    "kernelspec": {
      "name": "python3",
      "display_name": "Python 3"
    },
    "language_info": {
      "name": "python"
    }
  },
  "cells": [
    {
      "cell_type": "code",
      "execution_count": null,
      "metadata": {
        "id": "Zm2u_WuprWLm"
      },
      "outputs": [],
      "source": [
        "from pandas import read_csv, get_dummies,Series,DataFrame\n",
        "from sklearn.preprocessing import StandardScaler\n",
        "from sklearn.model_selection import train_test_split\n",
        "from imblearn.over_sampling import SMOTE\n",
        "data=read_csv('/content/drive/MyDrive/Colab Notebooks/Emloyees.csv')# reading\n",
        "data['PastEmployee'] = data['PastEmployee'].map({'Yes':1, 'No':0}) # encoding\n",
        "data['OverTime'] = data['OverTime'].map({'Yes':1, 'No':0}) # encoding\n",
        "data['Gender'] = data['Gender'].map({'Female':1, 'Male':0}) # encoding\n",
        "data2 = get_dummies(data, columns =  ['BusinessTravel', 'Department', 'EducationField', 'JobRole', 'MaritalStatus']) # encoding\n",
        "X = data2.drop('PastEmployee', axis = 1) # Features\n",
        "Y = data2['PastEmployee'] # Labels\n",
        "X_scaled = StandardScaler().fit_transform(X) # scaling\n",
        "X_train, X_test, Y_train, Y_test = train_test_split( X_scaled, Y, test_size = 0.25, random_state = 100)# splitting\n",
        "X_train,Y_train =SMOTE (random_state = 100).fit_resample(X_train,Y_train)# balancing"
      ]
    },
    {
      "cell_type": "code",
      "source": [
        "# data2\n",
        "# DataFrame(Y)\n",
        "# DataFrame(X_scaled)"
      ],
      "metadata": {
        "id": "NSSbR5g2pWji"
      },
      "execution_count": null,
      "outputs": []
    },
    {
      "cell_type": "code",
      "execution_count": null,
      "metadata": {
        "id": "pALETuDCPBEr"
      },
      "outputs": [],
      "source": [
        "#building SVM using mathod#1\n",
        "#from sklearn import svm\n",
        "#SV_classifier1 = svm.SVC(kernel='linear', random_state=0)\n",
        "from sklearn.svm import SVC\n",
        "SV_classifier1 = SVC(kernel='linear', random_state=10)  # building classifier\n",
        "#import sklearn as sk\n",
        "#SV_classifier1 =sk.svm.SVC(kernel='linear', random_state=0)\n",
        "SV_classifier1.fit(X_train, Y_train) # training\n",
        "Y_pred= SV_classifier1.predict(X_test)  #testing\n"
      ]
    },
    {
      "cell_type": "code",
      "source": [
        "# Acuracy and confusion matrix\n",
        "from sklearn import metrics\n",
        "Accuracy=metrics.accuracy_score(Y_test, Y_pred) # calculating accuaracy\n",
        "print(\"Accuracy: \", Accuracy) # Is this a good metric??\n",
        "con_matrix = metrics.confusion_matrix(Y_test, Y_pred)\n",
        "print (con_matrix)\n",
        "recall = metrics.recall_score(Y_test, Y_pred)\n",
        "print (recall)\n",
        "percision=metrics.precision_score(Y_test, Y_pred)\n",
        "print(percision)"
      ],
      "metadata": {
        "colab": {
          "base_uri": "https://localhost:8080/"
        },
        "id": "HMxIrOzLt8a2",
        "outputId": "0a7f9fd4-ed62-45ee-b805-3abab179fee1"
      },
      "execution_count": null,
      "outputs": [
        {
          "output_type": "stream",
          "name": "stdout",
          "text": [
            "Accuracy:  0.7282608695652174\n",
            "[[230  79]\n",
            " [ 21  38]]\n",
            "0.6440677966101694\n",
            "0.3247863247863248\n"
          ]
        }
      ]
    },
    {
      "cell_type": "code",
      "source": [
        "#  Support Vector Classifier (method#3)\n",
        "from imblearn.pipeline import Pipeline\n",
        "from sklearn.model_selection import GridSearchCV\n",
        "model = Pipeline([('balancing', SMOTE(random_state = 101)),('classification', SVC(random_state=10) ) ]) # bulilding classifier\n",
        "kernels_c = {'classification__kernel': ['linear','poly','rbf','sigmoid'], 'classification__C': [.001,.01,.1,1,10,100]}\n",
        "grid_search1 = GridSearchCV(estimator=model, param_grid=kernels_c, scoring='recall', cv=5)\n",
        "grid_search1.fit(X_scaled, Y)\n",
        "\n",
        "best_parameters = grid_search1.best_params_\n",
        "print(best_parameters)\n",
        "best_result = grid_search1.best_score_\n",
        "print(best_result)"
      ],
      "metadata": {
        "colab": {
          "base_uri": "https://localhost:8080/"
        },
        "id": "h8aZrTSHdrSj",
        "outputId": "992e7915-ca6b-4ae4-cfea-25d7f070dacb"
      },
      "execution_count": null,
      "outputs": [
        {
          "output_type": "stream",
          "name": "stdout",
          "text": [
            "{'classification__C': 1, 'classification__kernel': 'sigmoid'}\n",
            "0.7295212765957447\n"
          ]
        }
      ]
    },
    {
      "cell_type": "code",
      "source": [
        "from sklearn import svm\n",
        "SV_classifier2 = svm.SVC(kernel='sigmoid', random_state=10)  # building classifier\n",
        "SV_classifier2.fit(X_train, Y_train) # training\n",
        "Y_pred= SV_classifier2.predict(X_test)  #testing\n",
        "# Acuracy and confusion matrix\n",
        "from sklearn import metrics\n",
        "Accuracy=metrics.accuracy_score(Y_test, Y_pred) # calculating accuaracy\n",
        "print(\"Accuracy: \", Accuracy) # Is this a good metric??\n",
        "con_matrix = metrics.confusion_matrix(Y_test, Y_pred)\n",
        "print (con_matrix)\n",
        "recall = metrics.recall_score(Y_test, Y_pred)\n",
        "print (recall)\n",
        "percision=metrics.precision_score(Y_test, Y_pred)\n",
        "print(percision)"
      ],
      "metadata": {
        "id": "UsZXnwBDd0UJ",
        "colab": {
          "base_uri": "https://localhost:8080/"
        },
        "outputId": "e362408c-d6f7-43d0-ecc5-f171a18decf5"
      },
      "execution_count": null,
      "outputs": [
        {
          "output_type": "stream",
          "name": "stdout",
          "text": [
            "Accuracy:  0.6902173913043478\n",
            "[[213  96]\n",
            " [ 18  41]]\n",
            "0.6949152542372882\n",
            "0.29927007299270075\n"
          ]
        }
      ]
    },
    {
      "cell_type": "code",
      "source": [
        "# Acuracy and confusion matrix\n",
        "from sklearn import metrics\n",
        "Y_pred = SV_classifier2.predict(X_test) # testing\n",
        "Accuracy=metrics.accuracy_score(Y_test, Y_pred) # calculating accuaracy\n",
        "print(\"Accuracy: \", Accuracy) # Is this a good metric??\n",
        "con_matrix = metrics.confusion_matrix(Y_test, Y_pred)\n",
        "print (con_matrix)\n",
        "recall = metrics.recall_score(Y_test, Y_pred)\n",
        "print (recall)\n",
        "percision=metrics.precision_score(Y_test, Y_pred)\n",
        "print(percision)"
      ],
      "metadata": {
        "colab": {
          "base_uri": "https://localhost:8080/"
        },
        "id": "J3ECUA5iEMHX",
        "outputId": "0e602ffe-55c9-47ea-a817-42f24f3bd71c"
      },
      "execution_count": null,
      "outputs": [
        {
          "output_type": "stream",
          "name": "stdout",
          "text": [
            "Accuracy:  0.6902173913043478\n",
            "[[213  96]\n",
            " [ 18  41]]\n",
            "0.6949152542372882\n",
            "0.29927007299270075\n"
          ]
        }
      ]
    }
  ]
}
