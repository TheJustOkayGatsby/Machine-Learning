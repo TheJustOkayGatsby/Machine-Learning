{
  "cells": [
    {
      "cell_type": "code",
      "execution_count": null,
      "metadata": {
        "colab": {
          "base_uri": "https://localhost:8080/"
        },
        "id": "1rf9uBuSsLK5",
        "outputId": "a92ec98c-d2be-4f91-867a-e18325502175"
      },
      "outputs": [
        {
          "output_type": "stream",
          "name": "stdout",
          "text": [
            "863\n",
            "1361\n",
            "599\n",
            "75\n",
            "1417\n",
            "973\n",
            "575\n",
            "936\n",
            "316\n",
            "732\n",
            "1134\n",
            "1029\n"
          ]
        }
      ],
      "source": [
        "import numpy.random as random\n",
        "\n",
        "random.seed(101)\n",
        "print(random.randint(0,1469))\n",
        "print(random.randint(0,1470))\n",
        "print(random.randint(0,1470))\n",
        "print(random.randint(0,1470))\n",
        "print(random.randint(0,1470))\n",
        "print(random.randint(0,1470))\n",
        "print(random.randint(0,1470))\n",
        "print(random.randint(0,1470))\n",
        "print(random.randint(0,1470))\n",
        "print(random.randint(0,1470))\n",
        "print(random.randint(0,1470))\n",
        "print(random.randint(0,1470))\n"
      ]
    },
    {
      "cell_type": "code",
      "execution_count": null,
      "metadata": {
        "colab": {
          "base_uri": "https://localhost:8080/"
        },
        "id": "HGwIo-_Espga",
        "outputId": "7c8466b0-52cc-494f-fe64-a1a5a2c75f10"
      },
      "outputs": [
        {
          "output_type": "stream",
          "name": "stdout",
          "text": [
            "0.8525432595374888\n",
            "0.575685108122131\n",
            "0.7453034768017966\n"
          ]
        }
      ],
      "source": [
        "import numpy.random as random\n",
        "\n",
        "#random.seed(700)\n",
        "print(random.random())\n",
        "print(random.random())\n",
        "print(random.random())"
      ]
    },
    {
      "cell_type": "code",
      "execution_count": null,
      "metadata": {
        "id": "T5blnq2mHGZ_"
      },
      "outputs": [],
      "source": [
        "random.seed(100)\n",
        "print(random.randint(0,31))\n",
        "print(random.randint(0,31))\n",
        "print(random.randint(0,31))\n",
        "print(random.randint(0,31))\n",
        "print(random.randint(0,31))\n",
        "\n",
        "print(random.randint(0,31))\n",
        "print(random.randint(0,31))\n",
        "print(random.randint(0,31))\n",
        "print(random.randint(0,31))\n",
        "print(random.randint(0,31))"
      ]
    }
  ],
  "metadata": {
    "colab": {
      "provenance": []
    },
    "kernelspec": {
      "display_name": "Python 3",
      "name": "python3"
    },
    "language_info": {
      "name": "python"
    }
  },
  "nbformat": 4,
  "nbformat_minor": 0
}